{
  "nbformat": 4,
  "nbformat_minor": 0,
  "metadata": {
    "colab": {
      "provenance": []
    },
    "kernelspec": {
      "name": "python3",
      "display_name": "Python 3"
    },
    "language_info": {
      "name": "python"
    }
  },
  "cells": [
    {
      "cell_type": "code",
      "execution_count": null,
      "metadata": {
        "colab": {
          "base_uri": "https://localhost:8080/"
        },
        "id": "mbau-jQkc0Gx",
        "outputId": "dda99564-efc8-493e-9bd8-e73b5b19ccb2"
      },
      "outputs": [
        {
          "output_type": "stream",
          "name": "stdout",
          "text": [
            "Collecting llama-parse\n",
            "  Downloading llama_parse-0.5.4-py3-none-any.whl.metadata (6.1 kB)\n",
            "Collecting llama-index-core>=0.11.0 (from llama-parse)\n",
            "  Downloading llama_index_core-0.11.8-py3-none-any.whl.metadata (2.4 kB)\n",
            "Requirement already satisfied: PyYAML>=6.0.1 in /usr/local/lib/python3.10/dist-packages (from llama-index-core>=0.11.0->llama-parse) (6.0.2)\n",
            "Requirement already satisfied: SQLAlchemy>=1.4.49 in /usr/local/lib/python3.10/dist-packages (from SQLAlchemy[asyncio]>=1.4.49->llama-index-core>=0.11.0->llama-parse) (2.0.32)\n",
            "Requirement already satisfied: aiohttp<4.0.0,>=3.8.6 in /usr/local/lib/python3.10/dist-packages (from llama-index-core>=0.11.0->llama-parse) (3.10.5)\n",
            "Collecting dataclasses-json (from llama-index-core>=0.11.0->llama-parse)\n",
            "  Downloading dataclasses_json-0.6.7-py3-none-any.whl.metadata (25 kB)\n",
            "Collecting deprecated>=1.2.9.3 (from llama-index-core>=0.11.0->llama-parse)\n",
            "  Downloading Deprecated-1.2.14-py2.py3-none-any.whl.metadata (5.4 kB)\n",
            "Collecting dirtyjson<2.0.0,>=1.0.8 (from llama-index-core>=0.11.0->llama-parse)\n",
            "  Downloading dirtyjson-1.0.8-py3-none-any.whl.metadata (11 kB)\n",
            "Requirement already satisfied: fsspec>=2023.5.0 in /usr/local/lib/python3.10/dist-packages (from llama-index-core>=0.11.0->llama-parse) (2024.6.1)\n",
            "Collecting httpx (from llama-index-core>=0.11.0->llama-parse)\n",
            "  Downloading httpx-0.27.2-py3-none-any.whl.metadata (7.1 kB)\n",
            "Requirement already satisfied: nest-asyncio<2.0.0,>=1.5.8 in /usr/local/lib/python3.10/dist-packages (from llama-index-core>=0.11.0->llama-parse) (1.6.0)\n",
            "Requirement already satisfied: networkx>=3.0 in /usr/local/lib/python3.10/dist-packages (from llama-index-core>=0.11.0->llama-parse) (3.3)\n",
            "Collecting nltk>3.8.1 (from llama-index-core>=0.11.0->llama-parse)\n",
            "  Downloading nltk-3.9.1-py3-none-any.whl.metadata (2.9 kB)\n",
            "Requirement already satisfied: numpy<2.0.0 in /usr/local/lib/python3.10/dist-packages (from llama-index-core>=0.11.0->llama-parse) (1.26.4)\n",
            "Requirement already satisfied: pillow>=9.0.0 in /usr/local/lib/python3.10/dist-packages (from llama-index-core>=0.11.0->llama-parse) (9.4.0)\n",
            "Requirement already satisfied: pydantic<3.0.0,>=2.7.0 in /usr/local/lib/python3.10/dist-packages (from llama-index-core>=0.11.0->llama-parse) (2.8.2)\n",
            "Requirement already satisfied: requests>=2.31.0 in /usr/local/lib/python3.10/dist-packages (from llama-index-core>=0.11.0->llama-parse) (2.32.3)\n",
            "Collecting tenacity!=8.4.0,<9.0.0,>=8.2.0 (from llama-index-core>=0.11.0->llama-parse)\n",
            "  Downloading tenacity-8.5.0-py3-none-any.whl.metadata (1.2 kB)\n",
            "Collecting tiktoken>=0.3.3 (from llama-index-core>=0.11.0->llama-parse)\n",
            "  Downloading tiktoken-0.7.0-cp310-cp310-manylinux_2_17_x86_64.manylinux2014_x86_64.whl.metadata (6.6 kB)\n",
            "Requirement already satisfied: tqdm<5.0.0,>=4.66.1 in /usr/local/lib/python3.10/dist-packages (from llama-index-core>=0.11.0->llama-parse) (4.66.5)\n",
            "Requirement already satisfied: typing-extensions>=4.5.0 in /usr/local/lib/python3.10/dist-packages (from llama-index-core>=0.11.0->llama-parse) (4.12.2)\n",
            "Collecting typing-inspect>=0.8.0 (from llama-index-core>=0.11.0->llama-parse)\n",
            "  Downloading typing_inspect-0.9.0-py3-none-any.whl.metadata (1.5 kB)\n",
            "Requirement already satisfied: wrapt in /usr/local/lib/python3.10/dist-packages (from llama-index-core>=0.11.0->llama-parse) (1.16.0)\n",
            "Requirement already satisfied: aiohappyeyeballs>=2.3.0 in /usr/local/lib/python3.10/dist-packages (from aiohttp<4.0.0,>=3.8.6->llama-index-core>=0.11.0->llama-parse) (2.4.0)\n",
            "Requirement already satisfied: aiosignal>=1.1.2 in /usr/local/lib/python3.10/dist-packages (from aiohttp<4.0.0,>=3.8.6->llama-index-core>=0.11.0->llama-parse) (1.3.1)\n",
            "Requirement already satisfied: attrs>=17.3.0 in /usr/local/lib/python3.10/dist-packages (from aiohttp<4.0.0,>=3.8.6->llama-index-core>=0.11.0->llama-parse) (24.2.0)\n",
            "Requirement already satisfied: frozenlist>=1.1.1 in /usr/local/lib/python3.10/dist-packages (from aiohttp<4.0.0,>=3.8.6->llama-index-core>=0.11.0->llama-parse) (1.4.1)\n",
            "Requirement already satisfied: multidict<7.0,>=4.5 in /usr/local/lib/python3.10/dist-packages (from aiohttp<4.0.0,>=3.8.6->llama-index-core>=0.11.0->llama-parse) (6.0.5)\n",
            "Requirement already satisfied: yarl<2.0,>=1.0 in /usr/local/lib/python3.10/dist-packages (from aiohttp<4.0.0,>=3.8.6->llama-index-core>=0.11.0->llama-parse) (1.9.4)\n",
            "Requirement already satisfied: async-timeout<5.0,>=4.0 in /usr/local/lib/python3.10/dist-packages (from aiohttp<4.0.0,>=3.8.6->llama-index-core>=0.11.0->llama-parse) (4.0.3)\n",
            "Requirement already satisfied: click in /usr/local/lib/python3.10/dist-packages (from nltk>3.8.1->llama-index-core>=0.11.0->llama-parse) (8.1.7)\n",
            "Requirement already satisfied: joblib in /usr/local/lib/python3.10/dist-packages (from nltk>3.8.1->llama-index-core>=0.11.0->llama-parse) (1.4.2)\n",
            "Requirement already satisfied: regex>=2021.8.3 in /usr/local/lib/python3.10/dist-packages (from nltk>3.8.1->llama-index-core>=0.11.0->llama-parse) (2024.5.15)\n",
            "Requirement already satisfied: annotated-types>=0.4.0 in /usr/local/lib/python3.10/dist-packages (from pydantic<3.0.0,>=2.7.0->llama-index-core>=0.11.0->llama-parse) (0.7.0)\n",
            "Requirement already satisfied: pydantic-core==2.20.1 in /usr/local/lib/python3.10/dist-packages (from pydantic<3.0.0,>=2.7.0->llama-index-core>=0.11.0->llama-parse) (2.20.1)\n",
            "Requirement already satisfied: charset-normalizer<4,>=2 in /usr/local/lib/python3.10/dist-packages (from requests>=2.31.0->llama-index-core>=0.11.0->llama-parse) (3.3.2)\n",
            "Requirement already satisfied: idna<4,>=2.5 in /usr/local/lib/python3.10/dist-packages (from requests>=2.31.0->llama-index-core>=0.11.0->llama-parse) (3.8)\n",
            "Requirement already satisfied: urllib3<3,>=1.21.1 in /usr/local/lib/python3.10/dist-packages (from requests>=2.31.0->llama-index-core>=0.11.0->llama-parse) (2.0.7)\n",
            "Requirement already satisfied: certifi>=2017.4.17 in /usr/local/lib/python3.10/dist-packages (from requests>=2.31.0->llama-index-core>=0.11.0->llama-parse) (2024.8.30)\n",
            "Requirement already satisfied: greenlet!=0.4.17 in /usr/local/lib/python3.10/dist-packages (from SQLAlchemy>=1.4.49->SQLAlchemy[asyncio]>=1.4.49->llama-index-core>=0.11.0->llama-parse) (3.0.3)\n",
            "Collecting mypy-extensions>=0.3.0 (from typing-inspect>=0.8.0->llama-index-core>=0.11.0->llama-parse)\n",
            "  Downloading mypy_extensions-1.0.0-py3-none-any.whl.metadata (1.1 kB)\n",
            "Collecting marshmallow<4.0.0,>=3.18.0 (from dataclasses-json->llama-index-core>=0.11.0->llama-parse)\n",
            "  Downloading marshmallow-3.22.0-py3-none-any.whl.metadata (7.2 kB)\n",
            "Requirement already satisfied: anyio in /usr/local/lib/python3.10/dist-packages (from httpx->llama-index-core>=0.11.0->llama-parse) (3.7.1)\n",
            "Collecting httpcore==1.* (from httpx->llama-index-core>=0.11.0->llama-parse)\n",
            "  Downloading httpcore-1.0.5-py3-none-any.whl.metadata (20 kB)\n",
            "Requirement already satisfied: sniffio in /usr/local/lib/python3.10/dist-packages (from httpx->llama-index-core>=0.11.0->llama-parse) (1.3.1)\n",
            "Collecting h11<0.15,>=0.13 (from httpcore==1.*->httpx->llama-index-core>=0.11.0->llama-parse)\n",
            "  Downloading h11-0.14.0-py3-none-any.whl.metadata (8.2 kB)\n",
            "Requirement already satisfied: packaging>=17.0 in /usr/local/lib/python3.10/dist-packages (from marshmallow<4.0.0,>=3.18.0->dataclasses-json->llama-index-core>=0.11.0->llama-parse) (24.1)\n",
            "Requirement already satisfied: exceptiongroup in /usr/local/lib/python3.10/dist-packages (from anyio->httpx->llama-index-core>=0.11.0->llama-parse) (1.2.2)\n",
            "Downloading llama_parse-0.5.4-py3-none-any.whl (10 kB)\n",
            "Downloading llama_index_core-0.11.8-py3-none-any.whl (1.6 MB)\n",
            "\u001b[2K   \u001b[90m━━━━━━━━━━━━━━━━━━━━━━━━━━━━━━━━━━━━━━━━\u001b[0m \u001b[32m1.6/1.6 MB\u001b[0m \u001b[31m17.6 MB/s\u001b[0m eta \u001b[36m0:00:00\u001b[0m\n",
            "\u001b[?25hDownloading Deprecated-1.2.14-py2.py3-none-any.whl (9.6 kB)\n",
            "Downloading dirtyjson-1.0.8-py3-none-any.whl (25 kB)\n",
            "Downloading nltk-3.9.1-py3-none-any.whl (1.5 MB)\n",
            "\u001b[2K   \u001b[90m━━━━━━━━━━━━━━━━━━━━━━━━━━━━━━━━━━━━━━━━\u001b[0m \u001b[32m1.5/1.5 MB\u001b[0m \u001b[31m60.7 MB/s\u001b[0m eta \u001b[36m0:00:00\u001b[0m\n",
            "\u001b[?25hDownloading tenacity-8.5.0-py3-none-any.whl (28 kB)\n",
            "Downloading tiktoken-0.7.0-cp310-cp310-manylinux_2_17_x86_64.manylinux2014_x86_64.whl (1.1 MB)\n",
            "\u001b[2K   \u001b[90m━━━━━━━━━━━━━━━━━━━━━━━━━━━━━━━━━━━━━━━━\u001b[0m \u001b[32m1.1/1.1 MB\u001b[0m \u001b[31m49.8 MB/s\u001b[0m eta \u001b[36m0:00:00\u001b[0m\n",
            "\u001b[?25hDownloading typing_inspect-0.9.0-py3-none-any.whl (8.8 kB)\n",
            "Downloading dataclasses_json-0.6.7-py3-none-any.whl (28 kB)\n",
            "Downloading httpx-0.27.2-py3-none-any.whl (76 kB)\n",
            "\u001b[2K   \u001b[90m━━━━━━━━━━━━━━━━━━━━━━━━━━━━━━━━━━━━━━━━\u001b[0m \u001b[32m76.4/76.4 kB\u001b[0m \u001b[31m6.7 MB/s\u001b[0m eta \u001b[36m0:00:00\u001b[0m\n",
            "\u001b[?25hDownloading httpcore-1.0.5-py3-none-any.whl (77 kB)\n",
            "\u001b[2K   \u001b[90m━━━━━━━━━━━━━━━━━━━━━━━━━━━━━━━━━━━━━━━━\u001b[0m \u001b[32m77.9/77.9 kB\u001b[0m \u001b[31m7.1 MB/s\u001b[0m eta \u001b[36m0:00:00\u001b[0m\n",
            "\u001b[?25hDownloading marshmallow-3.22.0-py3-none-any.whl (49 kB)\n",
            "\u001b[2K   \u001b[90m━━━━━━━━━━━━━━━━━━━━━━━━━━━━━━━━━━━━━━━━\u001b[0m \u001b[32m49.3/49.3 kB\u001b[0m \u001b[31m4.3 MB/s\u001b[0m eta \u001b[36m0:00:00\u001b[0m\n",
            "\u001b[?25hDownloading mypy_extensions-1.0.0-py3-none-any.whl (4.7 kB)\n",
            "Downloading h11-0.14.0-py3-none-any.whl (58 kB)\n",
            "\u001b[2K   \u001b[90m━━━━━━━━━━━━━━━━━━━━━━━━━━━━━━━━━━━━━━━━\u001b[0m \u001b[32m58.3/58.3 kB\u001b[0m \u001b[31m5.2 MB/s\u001b[0m eta \u001b[36m0:00:00\u001b[0m\n",
            "\u001b[?25hInstalling collected packages: dirtyjson, tenacity, nltk, mypy-extensions, marshmallow, h11, deprecated, typing-inspect, tiktoken, httpcore, httpx, dataclasses-json, llama-index-core, llama-parse\n",
            "  Attempting uninstall: tenacity\n",
            "    Found existing installation: tenacity 9.0.0\n",
            "    Uninstalling tenacity-9.0.0:\n",
            "      Successfully uninstalled tenacity-9.0.0\n",
            "  Attempting uninstall: nltk\n",
            "    Found existing installation: nltk 3.8.1\n",
            "    Uninstalling nltk-3.8.1:\n",
            "      Successfully uninstalled nltk-3.8.1\n",
            "Successfully installed dataclasses-json-0.6.7 deprecated-1.2.14 dirtyjson-1.0.8 h11-0.14.0 httpcore-1.0.5 httpx-0.27.2 llama-index-core-0.11.8 llama-parse-0.5.4 marshmallow-3.22.0 mypy-extensions-1.0.0 nltk-3.9.1 tenacity-8.5.0 tiktoken-0.7.0 typing-inspect-0.9.0\n"
          ]
        }
      ],
      "source": [
        "pip install llama-parse"
      ]
    },
    {
      "cell_type": "code",
      "source": [
        "pdf_path = '/content/01.02.2024 PAID EOB_BCBS.pdf'"
      ],
      "metadata": {
        "id": "5NfYhnHgdEzO"
      },
      "execution_count": null,
      "outputs": []
    },
    {
      "cell_type": "code",
      "source": [
        "import nest_asyncio\n",
        "\n",
        "nest_asyncio.apply()"
      ],
      "metadata": {
        "id": "I80r25X8dKIg"
      },
      "execution_count": null,
      "outputs": []
    },
    {
      "cell_type": "code",
      "source": [
        "import os\n",
        "\n",
        "os.environ['Llama_Cloud_API_Key'] = ''"
      ],
      "metadata": {
        "id": "w4oJzhaNdQIK"
      },
      "execution_count": null,
      "outputs": []
    },
    {
      "cell_type": "code",
      "source": [
        "from llama_parse import LlamaParse\n",
        "\n",
        "\n",
        "# Pass the API key directly to the LlamaParse constructor\n",
        "document = LlamaParse(api_key=os.environ['Llama_Cloud_API_Key'], result_type=\"text\").load_data(pdf_path)"
      ],
      "metadata": {
        "colab": {
          "base_uri": "https://localhost:8080/"
        },
        "id": "vF5ASQRndQLn",
        "outputId": "3e1e9ada-184b-4afb-b55a-388d28979279"
      },
      "execution_count": null,
      "outputs": [
        {
          "output_type": "stream",
          "name": "stdout",
          "text": [
            "Started parsing the file under job_id dcd8ac1e-aff2-4825-99cf-d3ffa3da42cf\n"
          ]
        }
      ]
    },
    {
      "cell_type": "code",
      "source": [
        "document"
      ],
      "metadata": {
        "colab": {
          "base_uri": "https://localhost:8080/"
        },
        "id": "1rSo0lAAeaor",
        "outputId": "c7d56ce3-ac11-4c7f-b437-11d62ea38956"
      },
      "execution_count": null,
      "outputs": [
        {
          "output_type": "execute_result",
          "data": {
            "text/plain": [
              "[Document(id_='bd5bba36-486d-4f31-a4b6-133cd1e69c7f', embedding=None, metadata={}, excluded_embed_metadata_keys=[], excluded_llm_metadata_keys=[], relationships={}, text=\"                                                                                                                                                                                                          CONTACT INFORMATION\\n                                                                                                        Provider Detail Advisory                                                                        Physicians: 1-800-882-2060\\n                                                                                                                                                                                                          Hospitals:1-800-451-8123\\n                                                                                                                    Professional                                                             Ancillary/Mental Health:1-800-451-8124\\n                                                                                                                                                                                                            Dental: 1-800-882-1178\\nMASSACHUSETTS                                                                                                                                                                                Out-of-State Providers -Eligibility, benefits, and\\n                                                                                                                                                                                                                    claim status information is available\\n                                                                                                                                                                                                                    by calling: 1-800-676-2583\\nBlue Cross Blue Shie d ol Massachusetis is an Incependen                                                                                                                                     Out-of-State Providers -Please note your BCBSMA\\n    censee Oltne Blue Cross and Blue Shield / ssociaticn                                                                                                                                                            courtesy 'provider number'\\n  PROVIDER NUMBER                          PROVIDER                                                          PAYMENT                                                          SYSTEM INDICATOR\\n  NPI Number:       1477245082             CC THERAPY GROUP PA                                               EFT NUMBER:                 738654548                                         N\\n  Legacy Number:         0000Y61899        625 MASSACHUSETTS AVE                                             EFT DATE:                   01/18/2024\\n  TIN:XXXXX0780                            CAMBRIDGE, MA 021393357                                           EFT AMOUNT:                 $448.87\\n\\n  Submitted ID#:       MTN982706845              Submitted Patient Name:           KAYLYNN BOWEN                                                     Patient Account #                                                  BCBSMA Responsibility\\n                                                 Corrected Patient Name:           KAYLYNN, E, BOWEN                                                    KABO000001                                                                PRIMARY\\n              Claim Number                                         Type of Bill                                                                                                                                  Click to view Payment Advisory\\n            26240093664500                                               121\\n  Line #          Date of Service                Modifier(s)          Place of Service        Line Msg Indicator                           Submitted Procedure: 97530               Submitted Units:        3\\n     1       01/02/2024 01/02/2024-                                        4                  A B C D\\n                                                                                                                                                                                   Other Patient\\n Line Charge           Allowed           QPA         Contractual          Payer Initiated              OA               Copay             Deductible         Coinsurance           Responsibility          Withhold                   Paid\\n    $327.24            $117.54           $0.00          $232.97                 $0.00                $0.00              $35.00               $0.00                $0.00                 $0.00                 $0.00                 $59.27\\n  Grand Totals:                                                                                                                                                                  Other Patient\\n   Line Charge         Allowed           QPA         Contractual        Payer Initiated              OA                Copay            Deductible          Coinsurance          Responsibility           Withhold                  Paid\\n     $327.24            $117.54         $0.00           $232.97               $0.00                 $0.00              $35.00               $0.00                $0.00                 $0.00                $0.00                  $59.27\\n A - PR 3 Co-payment Amount (HIPAA Codes)\\n B - CO 59 Processed based on multiple or concurrent procedure rules. (For example multiple surgery or diagnostic imaging, concurrent anesthesia.) Usage: Refer to the 835 Healthcare Policy\\n     Identification Segment (loop 2110 Service Payment Information REF), if present. (HIPAA Codes)\\n C - CO 45 Charge exceeds fee schedule/maximum allowable or contracted/legislated fee arrangement. Usage: This adjustment amount cannot equal the total service or claim charge amount;\\n     and must not duplicate provider adjustment amounts (payments and contractual reductions) that have resulted from prior payer(s) adjudication. (Use only with Group Codes PR or CO\\n     depending upon liability) (HIPAA Codes)\\n D - PAYMENT FOR THIS PROCEDURE IS REDUCED DUE TO MODIFIER REDUCTION PAYMENT POLICY OR MULTIPLE PROCEDURE PAYMENT. REDUCTION POLICY. (MPPR - WHEN\\n     MULTIPLE SERVICES ARE PERFORMED AT THE SAME TIME, ALL SUBSEQUENT SERVICES ARE REDUCED). /K704/\\n\\n Page     1\", mimetype='text/plain', start_char_idx=None, end_char_idx=None, text_template='{metadata_str}\\n\\n{content}', metadata_template='{key}: {value}', metadata_seperator='\\n')]"
            ]
          },
          "metadata": {},
          "execution_count": 10
        }
      ]
    },
    {
      "cell_type": "code",
      "source": [
        "print(document[0].text)"
      ],
      "metadata": {
        "colab": {
          "base_uri": "https://localhost:8080/"
        },
        "id": "ohCjCzZ8eLw5",
        "outputId": "4e74685b-38c5-44bd-897a-59e22d7e6364"
      },
      "execution_count": null,
      "outputs": [
        {
          "output_type": "stream",
          "name": "stdout",
          "text": [
            "                                                                                                                                                                                                          CONTACT INFORMATION\n",
            "                                                                                                        Provider Detail Advisory                                                                        Physicians: 1-800-882-2060\n",
            "                                                                                                                                                                                                          Hospitals:1-800-451-8123\n",
            "                                                                                                                    Professional                                                             Ancillary/Mental Health:1-800-451-8124\n",
            "                                                                                                                                                                                                            Dental: 1-800-882-1178\n",
            "MASSACHUSETTS                                                                                                                                                                                Out-of-State Providers -Eligibility, benefits, and\n",
            "                                                                                                                                                                                                                    claim status information is available\n",
            "                                                                                                                                                                                                                    by calling: 1-800-676-2583\n",
            "Blue Cross Blue Shie d ol Massachusetis is an Incependen                                                                                                                                     Out-of-State Providers -Please note your BCBSMA\n",
            "    censee Oltne Blue Cross and Blue Shield / ssociaticn                                                                                                                                                            courtesy 'provider number'\n",
            "  PROVIDER NUMBER                          PROVIDER                                                          PAYMENT                                                          SYSTEM INDICATOR\n",
            "  NPI Number:       1477245082             CC THERAPY GROUP PA                                               EFT NUMBER:                 738654548                                         N\n",
            "  Legacy Number:         0000Y61899        625 MASSACHUSETTS AVE                                             EFT DATE:                   01/18/2024\n",
            "  TIN:XXXXX0780                            CAMBRIDGE, MA 021393357                                           EFT AMOUNT:                 $448.87\n",
            "\n",
            "  Submitted ID#:       MTN982706845              Submitted Patient Name:           KAYLYNN BOWEN                                                     Patient Account #                                                  BCBSMA Responsibility\n",
            "                                                 Corrected Patient Name:           KAYLYNN, E, BOWEN                                                    KABO000001                                                                PRIMARY\n",
            "              Claim Number                                         Type of Bill                                                                                                                                  Click to view Payment Advisory\n",
            "            26240093664500                                               121\n",
            "  Line #          Date of Service                Modifier(s)          Place of Service        Line Msg Indicator                           Submitted Procedure: 97530               Submitted Units:        3\n",
            "     1       01/02/2024 01/02/2024-                                        4                  A B C D\n",
            "                                                                                                                                                                                   Other Patient\n",
            " Line Charge           Allowed           QPA         Contractual          Payer Initiated              OA               Copay             Deductible         Coinsurance           Responsibility          Withhold                   Paid\n",
            "    $327.24            $117.54           $0.00          $232.97                 $0.00                $0.00              $35.00               $0.00                $0.00                 $0.00                 $0.00                 $59.27\n",
            "  Grand Totals:                                                                                                                                                                  Other Patient\n",
            "   Line Charge         Allowed           QPA         Contractual        Payer Initiated              OA                Copay            Deductible          Coinsurance          Responsibility           Withhold                  Paid\n",
            "     $327.24            $117.54         $0.00           $232.97               $0.00                 $0.00              $35.00               $0.00                $0.00                 $0.00                $0.00                  $59.27\n",
            " A - PR 3 Co-payment Amount (HIPAA Codes)\n",
            " B - CO 59 Processed based on multiple or concurrent procedure rules. (For example multiple surgery or diagnostic imaging, concurrent anesthesia.) Usage: Refer to the 835 Healthcare Policy\n",
            "     Identification Segment (loop 2110 Service Payment Information REF), if present. (HIPAA Codes)\n",
            " C - CO 45 Charge exceeds fee schedule/maximum allowable or contracted/legislated fee arrangement. Usage: This adjustment amount cannot equal the total service or claim charge amount;\n",
            "     and must not duplicate provider adjustment amounts (payments and contractual reductions) that have resulted from prior payer(s) adjudication. (Use only with Group Codes PR or CO\n",
            "     depending upon liability) (HIPAA Codes)\n",
            " D - PAYMENT FOR THIS PROCEDURE IS REDUCED DUE TO MODIFIER REDUCTION PAYMENT POLICY OR MULTIPLE PROCEDURE PAYMENT. REDUCTION POLICY. (MPPR - WHEN\n",
            "     MULTIPLE SERVICES ARE PERFORMED AT THE SAME TIME, ALL SUBSEQUENT SERVICES ARE REDUCED). /K704/\n",
            "\n",
            " Page     1\n"
          ]
        }
      ]
    },
    {
      "cell_type": "code",
      "source": [
        "extracted_text = document[0].text"
      ],
      "metadata": {
        "id": "OTFVz0_cAcJw"
      },
      "execution_count": null,
      "outputs": []
    },
    {
      "cell_type": "code",
      "source": [
        "import re\n",
        "import pandas as pd\n",
        "\n",
        "# Sample extracted text (replace this with your actual extracted text from the PDF)\n",
        "extracted_text = document[0].text  # This comes from your llama-parse output\n",
        "\n",
        "# Define regex patterns for each piece of information\n",
        "patient_name_pattern = r'Submitted Patient Name:\\s*([A-Za-z\\s,]+)'\n",
        "patient_id_pattern = r'Submitted ID#:\\s*([A-Za-z0-9]+)'\n",
        "date_of_service_pattern = r'Date of Service:\\s*(\\d{2}/\\d{2}/\\d{4})'\n",
        "copay_pattern = r'Copay\\s*\\$?(\\d{1,3}(?:,\\d{3})*(?:\\.\\d{2})?)'\n",
        "deductible_pattern = r'Deductible\\s*\\$([0-9,.]+)'\n",
        "coinsurance_pattern = r'Coinsurance\\s*\\$([0-9,.]+)'\n",
        "corrected_patient_name_pattern = r'Corrected Patient Name:\\s*([A-Za-z\\s,]+)'\n",
        "\n",
        "# Extract information using the patterns\n",
        "patient_name = re.search(patient_name_pattern, extracted_text).group(1)\n",
        "patient_id = re.search(patient_id_pattern, extracted_text).group(1)\n",
        "\n",
        "# Use re.findall to find all occurrences of the date pattern and select the first one if found\n",
        "date_of_service_matches = re.findall(date_of_service_pattern, extracted_text)\n",
        "date_of_service = date_of_service_matches[0] if date_of_service_matches else \"Not Found\"\n",
        "\n",
        "# Extract copay, deductible, and coinsurance values\n",
        "copay_match = re.search(copay_pattern, extracted_text)\n",
        "deductible_match = re.search(deductible_pattern, extracted_text)\n",
        "coinsurance_match = re.search(coinsurance_pattern, extracted_text)\n",
        "\n",
        "copay = copay_match.group(1) if copay_match else \"Not Found\"\n",
        "deductible = deductible_match.group(1) if deductible_match else \"Not Found\"\n",
        "coinsurance = coinsurance_match.group(1) if coinsurance_match else \"Not Found\"\n",
        "\n",
        "# Extract Corrected Patient Name\n",
        "corrected_patient_name_match = re.search(corrected_patient_name_pattern, extracted_text)\n",
        "corrected_patient_name = corrected_patient_name_match.group(1) if corrected_patient_name_match else \"Not Found\"\n",
        "\n",
        "# Create a dictionary to store the extracted data\n",
        "data = {\n",
        "    'Patient Name': [patient_name],\n",
        "    'Patient ID': [patient_id],\n",
        "    'Date of Service': [date_of_service],\n",
        "    'Copay': [copay],\n",
        "    'Deductible': [deductible],\n",
        "    'Coinsurance': [coinsurance],\n",
        "    'Corrected Patient Name': [corrected_patient_name]  # Add Corrected Patient Name here\n",
        "}\n",
        "\n",
        "# Convert the dictionary to a DataFrame and save as CSV\n",
        "df = pd.DataFrame(data)\n",
        "\n",
        "# Save DataFrame to CSV file\n",
        "df.to_csv('formatted_patient_data.csv', index=False)\n",
        "\n",
        "# Display the DataFrame\n",
        "print(\"Formatted Data:\")\n",
        "print(df)\n"
      ],
      "metadata": {
        "colab": {
          "base_uri": "https://localhost:8080/"
        },
        "id": "xOlHudtP91ra",
        "outputId": "32f7d537-24ea-41aa-a585-cdc7daa4d3d4"
      },
      "execution_count": null,
      "outputs": [
        {
          "output_type": "stream",
          "name": "stdout",
          "text": [
            "Formatted Data:\n",
            "                                        Patient Name    Patient ID  \\\n",
            "0  KAYLYNN BOWEN                                 ...  MTN982706845   \n",
            "\n",
            "  Date of Service      Copay Deductible Coinsurance  \\\n",
            "0       Not Found  Not Found  Not Found   Not Found   \n",
            "\n",
            "                              Corrected Patient Name  \n",
            "0  KAYLYNN, E, BOWEN                             ...  \n"
          ]
        }
      ]
    },
    {
      "cell_type": "code",
      "source": [
        "extracted_text = document[0].text"
      ],
      "metadata": {
        "id": "MTygUxQOeL0V"
      },
      "execution_count": null,
      "outputs": []
    },
    {
      "cell_type": "code",
      "source": [
        "import re\n",
        "import pandas as pd\n",
        "\n",
        "patient_name_pattern = r'Submitted Patient Name:\\s*([A-Za-z\\s,]+)'\n",
        "patient_id_pattern = r'Submitted ID#:\\s*([A-Za-z0-9]+)'\n",
        "date_of_service_pattern = r'Date of Service:\\s*(\\d{2}/\\d{2}/\\d{4})'  # Added a colon after 'Date of Service' and removed extra spaces\n",
        "copay_pattern = r'Copay\\s*\\$([0-9,.]+)'  # Extracting the copay value\n",
        "deductible_pattern = r'Deductible\\s*\\$([0-9,.]+)'  # Extracting deductible\n",
        "coinsurance_pattern = r'Coinsurance\\s*\\$([0-9,.]+)'  # Extracting coinsurance\n",
        "\n",
        "# Extract information using the patterns\n",
        "patient_name = re.search(patient_name_pattern, extracted_text).group(1)\n",
        "patient_id = re.search(patient_id_pattern, extracted_text).group(1)\n",
        "\n",
        "# Use re.findall to find all occurrences of the date pattern and select the first one if found\n",
        "date_of_service_matches = re.findall(date_of_service_pattern, extracted_text)\n",
        "date_of_service = date_of_service_matches[0] if date_of_service_matches else \"Not Found\"\n",
        "\n",
        "# Extract copay, deductible, and coinsurance values\n",
        "copay_match = re.search(copay_pattern, extracted_text)\n",
        "deductible_match = re.search(deductible_pattern, extracted_text)\n",
        "coinsurance_match = re.search(coinsurance_pattern, extracted_text)\n",
        "\n",
        "copay = copay_match.group(1) if copay_match else \"Not Found\"\n",
        "deductible = deductible_match.group(1) if deductible_match else \"Not Found\"\n",
        "coinsurance = coinsurance_match.group(1) if coinsurance_match else \"Not Found\"\n",
        "\n",
        "# Create a dictionary to store the extracted data\n",
        "data = {\n",
        "    'Patient Name': [patient_name],\n",
        "    'Patient ID': [patient_id],\n",
        "    'Date of Service': [date_of_service],\n",
        "    'Copay': [copay],\n",
        "    'Deductible': [deductible],\n",
        "    'Coinsurance': [coinsurance]\n",
        "}\n",
        "\n",
        "# Convert the dictionary to a DataFrame and save as CSV\n",
        "df = pd.DataFrame(data)\n",
        "\n",
        "# Save DataFrame to CSV file\n",
        "df.to_csv('formatted_patient_data.csv', index=False)\n",
        "\n",
        "# Display the DataFrame\n",
        "print(\"Formatted Data:\")\n",
        "print(df)"
      ],
      "metadata": {
        "id": "nu0T7FiymnMN",
        "outputId": "e5a4377a-9311-4978-c3e4-4f4e7009b30e",
        "colab": {
          "base_uri": "https://localhost:8080/"
        }
      },
      "execution_count": null,
      "outputs": [
        {
          "output_type": "stream",
          "name": "stdout",
          "text": [
            "Formatted Data:\n",
            "                                        Patient Name    Patient ID  \\\n",
            "0  KAYLYNN BOWEN                                 ...  MTN982706845   \n",
            "\n",
            "  Date of Service      Copay Deductible Coinsurance  \n",
            "0       Not Found  Not Found  Not Found   Not Found  \n"
          ]
        }
      ]
    },
    {
      "cell_type": "code",
      "source": [
        "import re\n",
        "import pandas as pd\n",
        "\n",
        "patient_name_pattern = r'Submitted Patient Name:\\s*([A-Za-z\\s,]+)'\n",
        "patient_id_pattern = r'Submitted ID#:\\s*([A-Za-z0-9]+)'\n",
        "date_of_service_pattern = r'Date of Service\\s+(\\d{2}/\\d{2}/\\d{4})'  # Date of Service comes after 'Date of Service'\n",
        "copay_pattern = r'Copay\\s*\\$([0-9,.]+)'  # Extracting the copay value\n",
        "deductible_pattern = r'Deductible\\s*\\$([0-9,.]+)'  # Extracting deductible\n",
        "coinsurance_pattern = r'Coinsurance\\s*\\$([0-9,.]+)'  # Extracting coinsurance\n",
        "\n",
        "# Extract information using the patterns\n",
        "patient_name = re.search(patient_name_pattern, extracted_text).group(1)\n",
        "patient_id = re.search(patient_id_pattern, extracted_text).group(1)\n",
        "date_of_service = re.search(date_of_service_pattern, extracted_text).group(1)\n",
        "\n",
        "# Extract copay, deductible, and coinsurance values\n",
        "copay_match = re.search(copay_pattern, extracted_text)\n",
        "deductible_match = re.search(deductible_pattern, extracted_text)\n",
        "coinsurance_match = re.search(coinsurance_pattern, extracted_text)\n",
        "\n",
        "copay = copay_match.group(1) if copay_match else \"Not Found\"\n",
        "deductible = deductible_match.group(1) if deductible_match else \"Not Found\"\n",
        "coinsurance = coinsurance_match.group(1) if coinsurance_match else \"Not Found\"\n",
        "\n",
        "# Create a dictionary to store the extracted data\n",
        "data = {\n",
        "    'Patient Name': [patient_name],\n",
        "    'Patient ID': [patient_id],\n",
        "    'Date of Service': [date_of_service],\n",
        "    'Copay': [copay],\n",
        "    'Deductible': [deductible],\n",
        "    'Coinsurance': [coinsurance]\n",
        "}\n",
        "\n",
        "# Convert the dictionary to a DataFrame and save as CSV\n",
        "df = pd.DataFrame(data)\n",
        "\n",
        "# Save DataFrame to CSV file\n",
        "df.to_csv('formatted_patient_data.csv', index=False)\n",
        "\n",
        "# Display the DataFrame\n",
        "print(\"Formatted Data:\")\n",
        "print(df)"
      ],
      "metadata": {
        "colab": {
          "base_uri": "https://localhost:8080/",
          "height": 219
        },
        "id": "X6YLc4ZTk-pH",
        "outputId": "1c56d9c6-5026-4510-b58d-ed51bd5a0b09"
      },
      "execution_count": null,
      "outputs": [
        {
          "output_type": "error",
          "ename": "AttributeError",
          "evalue": "'NoneType' object has no attribute 'group'",
          "traceback": [
            "\u001b[0;31m---------------------------------------------------------------------------\u001b[0m",
            "\u001b[0;31mAttributeError\u001b[0m                            Traceback (most recent call last)",
            "\u001b[0;32m<ipython-input-15-6a39ca39ad06>\u001b[0m in \u001b[0;36m<cell line: 14>\u001b[0;34m()\u001b[0m\n\u001b[1;32m     12\u001b[0m \u001b[0mpatient_name\u001b[0m \u001b[0;34m=\u001b[0m \u001b[0mre\u001b[0m\u001b[0;34m.\u001b[0m\u001b[0msearch\u001b[0m\u001b[0;34m(\u001b[0m\u001b[0mpatient_name_pattern\u001b[0m\u001b[0;34m,\u001b[0m \u001b[0mextracted_text\u001b[0m\u001b[0;34m)\u001b[0m\u001b[0;34m.\u001b[0m\u001b[0mgroup\u001b[0m\u001b[0;34m(\u001b[0m\u001b[0;36m1\u001b[0m\u001b[0;34m)\u001b[0m\u001b[0;34m\u001b[0m\u001b[0;34m\u001b[0m\u001b[0m\n\u001b[1;32m     13\u001b[0m \u001b[0mpatient_id\u001b[0m \u001b[0;34m=\u001b[0m \u001b[0mre\u001b[0m\u001b[0;34m.\u001b[0m\u001b[0msearch\u001b[0m\u001b[0;34m(\u001b[0m\u001b[0mpatient_id_pattern\u001b[0m\u001b[0;34m,\u001b[0m \u001b[0mextracted_text\u001b[0m\u001b[0;34m)\u001b[0m\u001b[0;34m.\u001b[0m\u001b[0mgroup\u001b[0m\u001b[0;34m(\u001b[0m\u001b[0;36m1\u001b[0m\u001b[0;34m)\u001b[0m\u001b[0;34m\u001b[0m\u001b[0;34m\u001b[0m\u001b[0m\n\u001b[0;32m---> 14\u001b[0;31m \u001b[0mdate_of_service\u001b[0m \u001b[0;34m=\u001b[0m \u001b[0mre\u001b[0m\u001b[0;34m.\u001b[0m\u001b[0msearch\u001b[0m\u001b[0;34m(\u001b[0m\u001b[0mdate_of_service_pattern\u001b[0m\u001b[0;34m,\u001b[0m \u001b[0mextracted_text\u001b[0m\u001b[0;34m)\u001b[0m\u001b[0;34m.\u001b[0m\u001b[0mgroup\u001b[0m\u001b[0;34m(\u001b[0m\u001b[0;36m1\u001b[0m\u001b[0;34m)\u001b[0m\u001b[0;34m\u001b[0m\u001b[0;34m\u001b[0m\u001b[0m\n\u001b[0m\u001b[1;32m     15\u001b[0m \u001b[0;34m\u001b[0m\u001b[0m\n\u001b[1;32m     16\u001b[0m \u001b[0;31m# Extract copay, deductible, and coinsurance values\u001b[0m\u001b[0;34m\u001b[0m\u001b[0;34m\u001b[0m\u001b[0m\n",
            "\u001b[0;31mAttributeError\u001b[0m: 'NoneType' object has no attribute 'group'"
          ]
        }
      ]
    },
    {
      "cell_type": "code",
      "source": [
        "patient_name_pattern = r'Submitted Patient Name:\\s*([A-Za-z\\s,]+)'\n",
        "patient_id_pattern = r'Submitted ID#:\\s*([A-Za-z0-9]+)'\n",
        "date_of_service_pattern = r'\\|1\\|(\\d{2}/\\d{2}/\\d{4})'  # Date of Service comes after line # '1'\n",
        "copay_pattern = r'\\|Copay\\|\\$([0-9,.]+)\\|'  # Extracting the copay value from table\n",
        "deductible_pattern = r'\\|Deductible\\|\\$([0-9,.]+)\\|'  # Extracting deductible\n",
        "coinsurance_pattern = r'\\|Coinsurance\\|\\$([0-9,.]+)\\|'  # Extracting coinsurance"
      ],
      "metadata": {
        "id": "eLem6keVhR4x"
      },
      "execution_count": null,
      "outputs": []
    },
    {
      "cell_type": "code",
      "source": [
        "import re\n",
        "\n",
        "patient_name = re.search(patient_name_pattern, extracted_text).group(1)\n",
        "patient_id = re.search(patient_id_pattern, extracted_text).group(1)\n",
        "date_of_service = re.search(date_of_service_pattern, extracted_text).group(1)"
      ],
      "metadata": {
        "colab": {
          "base_uri": "https://localhost:8080/",
          "height": 182
        },
        "id": "w1c1F3SQhWqw",
        "outputId": "64254465-37d7-4f78-f4ff-2dae3b1ae91a"
      },
      "execution_count": null,
      "outputs": [
        {
          "output_type": "error",
          "ename": "AttributeError",
          "evalue": "'NoneType' object has no attribute 'group'",
          "traceback": [
            "\u001b[0;31m---------------------------------------------------------------------------\u001b[0m",
            "\u001b[0;31mAttributeError\u001b[0m                            Traceback (most recent call last)",
            "\u001b[0;32m<ipython-input-34-0ab3359210be>\u001b[0m in \u001b[0;36m<cell line: 5>\u001b[0;34m()\u001b[0m\n\u001b[1;32m      3\u001b[0m \u001b[0mpatient_name\u001b[0m \u001b[0;34m=\u001b[0m \u001b[0mre\u001b[0m\u001b[0;34m.\u001b[0m\u001b[0msearch\u001b[0m\u001b[0;34m(\u001b[0m\u001b[0mpatient_name_pattern\u001b[0m\u001b[0;34m,\u001b[0m \u001b[0mextracted_text\u001b[0m\u001b[0;34m)\u001b[0m\u001b[0;34m.\u001b[0m\u001b[0mgroup\u001b[0m\u001b[0;34m(\u001b[0m\u001b[0;36m1\u001b[0m\u001b[0;34m)\u001b[0m\u001b[0;34m\u001b[0m\u001b[0;34m\u001b[0m\u001b[0m\n\u001b[1;32m      4\u001b[0m \u001b[0mpatient_id\u001b[0m \u001b[0;34m=\u001b[0m \u001b[0mre\u001b[0m\u001b[0;34m.\u001b[0m\u001b[0msearch\u001b[0m\u001b[0;34m(\u001b[0m\u001b[0mpatient_id_pattern\u001b[0m\u001b[0;34m,\u001b[0m \u001b[0mextracted_text\u001b[0m\u001b[0;34m)\u001b[0m\u001b[0;34m.\u001b[0m\u001b[0mgroup\u001b[0m\u001b[0;34m(\u001b[0m\u001b[0;36m1\u001b[0m\u001b[0;34m)\u001b[0m\u001b[0;34m\u001b[0m\u001b[0;34m\u001b[0m\u001b[0m\n\u001b[0;32m----> 5\u001b[0;31m \u001b[0mdate_of_service\u001b[0m \u001b[0;34m=\u001b[0m \u001b[0mre\u001b[0m\u001b[0;34m.\u001b[0m\u001b[0msearch\u001b[0m\u001b[0;34m(\u001b[0m\u001b[0mdate_of_service_pattern\u001b[0m\u001b[0;34m,\u001b[0m \u001b[0mextracted_text\u001b[0m\u001b[0;34m)\u001b[0m\u001b[0;34m.\u001b[0m\u001b[0mgroup\u001b[0m\u001b[0;34m(\u001b[0m\u001b[0;36m1\u001b[0m\u001b[0;34m)\u001b[0m\u001b[0;34m\u001b[0m\u001b[0;34m\u001b[0m\u001b[0m\n\u001b[0m",
            "\u001b[0;31mAttributeError\u001b[0m: 'NoneType' object has no attribute 'group'"
          ]
        }
      ]
    },
    {
      "cell_type": "code",
      "source": [
        "copay_match = re.search(copay_pattern, extracted_text)\n",
        "deductible_match = re.search(deductible_pattern, extracted_text)\n",
        "coinsurance_match = re.search(coinsurance_pattern, extracted_text)"
      ],
      "metadata": {
        "id": "bqdJTGAjhddJ"
      },
      "execution_count": null,
      "outputs": []
    },
    {
      "cell_type": "code",
      "source": [
        "copay = copay_match.group(1) if copay_match else \"Not Found\"\n",
        "deductible = deductible_match.group(1) if deductible_match else \"Not Found\"\n",
        "coinsurance = coinsurance_match.group(1) if coinsurance_match else \"Not Found\""
      ],
      "metadata": {
        "id": "nSouKdXBhgux"
      },
      "execution_count": null,
      "outputs": []
    },
    {
      "cell_type": "code",
      "source": [
        "data = {\n",
        "    'Patient Name': [patient_name],\n",
        "    'Patient ID': [patient_id],\n",
        "    'Date of Service': [date_of_service],\n",
        "    'Copay': [copay],\n",
        "    'Deductible': [deductible],\n",
        "    'Coinsurance': [coinsurance]\n",
        "}"
      ],
      "metadata": {
        "id": "HtqT5H22hqIp"
      },
      "execution_count": null,
      "outputs": []
    },
    {
      "cell_type": "code",
      "source": [
        "import pandas as pd\n",
        "df = pd.DataFrame(data)"
      ],
      "metadata": {
        "id": "IZz8IzH2hqMA"
      },
      "execution_count": null,
      "outputs": []
    },
    {
      "cell_type": "code",
      "source": [
        "df.to_csv('formatted_patient_data.csv', index=False)"
      ],
      "metadata": {
        "id": "5oq5at5AhxJz"
      },
      "execution_count": null,
      "outputs": []
    },
    {
      "cell_type": "code",
      "source": [
        "print(\"Formatted Data:\")\n",
        "print(df)"
      ],
      "metadata": {
        "colab": {
          "base_uri": "https://localhost:8080/"
        },
        "id": "wWmtPvu6hzuP",
        "outputId": "d58c7d25-4a36-4332-b1ae-808cd4e43200"
      },
      "execution_count": null,
      "outputs": [
        {
          "output_type": "stream",
          "name": "stdout",
          "text": [
            "Formatted Data:\n",
            "                              Patient Name    Patient ID Date of Service  \\\n",
            "0  KAYLYNN BOWEN\\n\\nCorrected Patient Name  MTN982706845      01/02/2024   \n",
            "\n",
            "       Copay Deductible Coinsurance  \n",
            "0  Not Found  Not Found   Not Found  \n"
          ]
        }
      ]
    },
    {
      "cell_type": "code",
      "source": [
        "import re\n",
        "\n",
        "# Sample extracted text from the PDF (replace this with your actual extracted text)\n",
        "extracted_text = \"\"\"\n",
        "[Document(id_='99f846ca-2c78-4f07-bce9-4f3a8de30872', embedding=None, metadata={}, excluded_embed_metadata_keys=[], excluded_llm_metadata_keys=[], relationships={}, text=\"                                                                                                                                                                                                          CONTACT INFORMATION\\n                                                                                                        Provider Detail Advisory                                                                        Physicians: 1-800-882-2060\\n                                                                                                                                                                                                          Hospitals:1-800-451-8123\\n                                                                                                                    Professional                                                             Ancillary/Mental Health:1-800-451-8124\\n                                                                                                                                                                                                            Dental: 1-800-882-1178\\nMASSACHUSETTS                                                                                                                                                                                Out-of-State Providers -Eligibility, benefits, and\\n                                                                                                                                                                                                                    claim status information is available\\n                                                                                                                                                                                                                    by calling: 1-800-676-2583\\nBlue Cross Blue Shie d ol Massachusetis is an Incependen                                                                                                                                     Out-of-State Providers -Please note your BCBSMA\\n    censee Oltne Blue Cross and Blue Shield / ssociaticn                                                                                                                                                            courtesy 'provider number'\\n  PROVIDER NUMBER                          PROVIDER                                                          PAYMENT                                                          SYSTEM INDICATOR\\n  NPI Number:       1477245082             CC THERAPY GROUP PA                                               EFT NUMBER:                 738654548                                         N\\n  Legacy Number:         0000Y61899        625 MASSACHUSETTS AVE                                             EFT DATE:                   01/18/2024\\n  TIN:XXXXX0780                            CAMBRIDGE, MA 021393357                                           EFT AMOUNT:                 $448.87\\n\\n  Submitted ID#:       MTN982706845              Submitted Patient Name:           KAYLYNN BOWEN                                                     Patient Account #                                                  BCBSMA Responsibility\\n                                                 Corrected Patient Name:           KAYLYNN, E, BOWEN                                                    KABO000001                                                                PRIMARY\\n              Claim Number                                         Type of Bill                                                                                                                                  Click to view Payment Advisory\\n            26240093664500                                               121\\n  Line #          Date of Service                Modifier(s)          Place of Service        Line Msg Indicator                           Submitted Procedure: 97530               Submitted Units:        3\\n     1       01/02/2024 01/02/2024-                                        4                  A B C D\\n                                                                                                                                                                                   Other Patient\\n Line Charge           Allowed           QPA         Contractual          Payer Initiated              OA               Copay             Deductible         Coinsurance           Responsibility          Withhold                   Paid\\n    $327.24            $117.54           $0.00          $232.97                 $0.00                $0.00              $35.00               $0.00                $0.00                 $0.00                 $0.00                 $59.27\\n  Grand Totals:                                                                                                                                                                  Other Patient\\n   Line Charge         Allowed           QPA         Contractual        Payer Initiated              OA                Copay            Deductible          Coinsurance          Responsibility           Withhold                  Paid\\n     $327.24            $117.54         $0.00           $232.97               $0.00                 $0.00              $35.00               $0.00                $0.00                 $0.00                $0.00                  $59.27\\n A - PR 3 Co-payment Amount (HIPAA Codes)\\n B - CO 59 Processed based on multiple or concurrent procedure rules. (For example multiple surgery or diagnostic imaging, concurrent anesthesia.) Usage: Refer to the 835 Healthcare Policy\\n     Identification Segment (loop 2110 Service Payment Information REF), if present. (HIPAA Codes)\\n C - CO 45 Charge exceeds fee schedule/maximum allowable or contracted/legislated fee arrangement. Usage: This adjustment amount cannot equal the total service or claim charge amount;\\n     and must not duplicate provider adjustment amounts (payments and contractual reductions) that have resulted from prior payer(s) adjudication. (Use only with Group Codes PR or CO\\n     depending upon liability) (HIPAA Codes)\\n D - PAYMENT FOR THIS PROCEDURE IS REDUCED DUE TO MODIFIER REDUCTION PAYMENT POLICY OR MULTIPLE PROCEDURE PAYMENT. REDUCTION POLICY. (MPPR - WHEN\\n     MULTIPLE SERVICES ARE PERFORMED AT THE SAME TIME, ALL SUBSEQUENT SERVICES ARE REDUCED). /K704/\\n\\n Page     1\", mimetype='text/plain', start_char_idx=None, end_char_idx=None, text_template='{metadata_str}\\n\\n{content}', metadata_template='{key}: {value}', metadata_seperator='\\n')]\n",
        "\"\"\"\n",
        "\n",
        "# Define regex patterns for copay, deductible, and coinsurance\n",
        "copay_pattern = r'Copay\\s*\\$([0-9,.]+)'\n",
        "deductible_pattern = r'Deductible\\s*\\$([0-9,.]+)'\n",
        "coinsurance_pattern = r'Coinsurance\\s*\\$([0-9,.]+)'\n",
        "\n",
        "# Extract copay, deductible, and coinsurance\n",
        "copay_match = re.search(copay_pattern, extracted_text)\n",
        "deductible_match = re.search(deductible_pattern, extracted_text)\n",
        "coinsurance_match = re.search(coinsurance_pattern, extracted_text)\n",
        "\n",
        "# Extracted values\n",
        "copay = copay_match.group(1) if copay_match else \"Not Found\"\n",
        "deductible = deductible_match.group(1) if deductible_match else \"Not Found\"\n",
        "coinsurance = coinsurance_match.group(1) if coinsurance_match else \"Not Found\"\n",
        "\n",
        "# Display extracted values\n",
        "print(f\"Copay: {copay}\")\n",
        "print(f\"Deductible: {deductible}\")\n",
        "print(f\"Coinsurance: {coinsurance}\")\n"
      ],
      "metadata": {
        "id": "Cd6kaRbbhzxj",
        "colab": {
          "base_uri": "https://localhost:8080/"
        },
        "outputId": "3e85c248-d772-42f2-f148-d53e944b02f4"
      },
      "execution_count": null,
      "outputs": [
        {
          "output_type": "stream",
          "name": "stdout",
          "text": [
            "Copay: Not Found\n",
            "Deductible: Not Found\n",
            "Coinsurance: Not Found\n"
          ]
        }
      ]
    },
    {
      "cell_type": "code",
      "source": [
        "import re\n",
        "\n",
        "# Sample extracted text from the PDF (replace this with your actual extracted text)\n",
        "extracted_text = \"\"\"\n",
        "Provider Detail Advisory                                                                        Physicians: 1-800-882-2060\n",
        "                                                                                                                                                                                                          Hospitals:1-800-451-8123\n",
        "                                                                                                                    Professional                                                             Ancillary/Mental Health:1-800-451-8124\n",
        "                                                                                                                                                                                                            Dental: 1-800-882-1178\n",
        "MASSACHUSETTS                                                                                                                                                                                Out-of-State Providers -Eligibility, benefits, and\n",
        "                                                                                                                                                                                                                    claim status information is available\n",
        "                                                                                                                                                                                                                    by calling: 1-800-676-2583\n",
        "Blue Cross Blue Shie d ol Massachusetis is an Incependen                                                                                                                                     Out-of-State Providers -Please note your BCBSMA\n",
        "    censee Oltne Blue Cross and Blue Shield / ssociaticn                                                                                                                                                            courtesy 'provider number'\n",
        "  PROVIDER NUMBER                          PROVIDER                                                          PAYMENT                                                          SYSTEM INDICATOR\n",
        "  NPI Number:       1477245082             CC THERAPY GROUP PA                                               EFT NUMBER:                 738654548                                         N\n",
        "  Legacy Number:         0000Y61899        625 MASSACHUSETTS AVE                                             EFT DATE:                   01/18/2024\n",
        "  TIN:XXXXX0780                            CAMBRIDGE, MA 021393357                                           EFT AMOUNT:                 $448.87\n",
        "\n",
        "  Submitted ID#:       MTN982706845              Submitted Patient Name:           KAYLYNN BOWEN                                                     Patient Account #                                                  BCBSMA Responsibility\n",
        "                                                 Corrected Patient Name:           KAYLYNN, E, BOWEN                                                    KABO000001                                                                PRIMARY\n",
        "              Claim Number                                         Type of Bill                                                                                                                                  Click to view Payment Advisory\n",
        "            26240093664500                                               121\n",
        "  Line #          Date of Service                Modifier(s)          Place of Service        Line Msg Indicator                           Submitted Procedure: 97530               Submitted Units:        3\n",
        "     1       01/02/2024 01/02/2024-                                        4                  A B C D\n",
        "                                                                                                                                                                                   Other Patient\n",
        " Line Charge           Allowed           QPA         Contractual          Payer Initiated              OA               Copay             Deductible         Coinsurance           Responsibility          Withhold                   Paid\n",
        "    $327.24            $117.54           $0.00          $232.97                 $0.00                $0.00              $35.00               $0.00                $0.00                 $0.00                 $0.00                 $59.27\n",
        "  Grand Totals:                                                                                                                                                                  Other Patient\n",
        "   Line Charge         Allowed           QPA         Contractual        Payer Initiated              OA                Copay            Deductible          Coinsurance          Responsibility           Withhold                  Paid\n",
        "     $327.24            $117.54         $0.00           $232.97               $0.00                 $0.00              $35.00               $0.00                $0.00                 $0.00                $0.00                  $59.27\n",
        " A - PR 3 Co-payment Amount (HIPAA Codes)\n",
        " B - CO 59 Processed based on multiple or concurrent procedure rules. (For example multiple surgery or diagnostic imaging, concurrent anesthesia.) Usage: Refer to the 835 Healthcare Policy\n",
        "     Identification Segment (loop 2110 Service Payment Information REF), if present. (HIPAA Codes)\n",
        " C - CO 45 Charge exceeds fee schedule/maximum allowable or contracted/legislated fee arrangement. Usage: This adjustment amount cannot equal the total service or claim charge amount;\n",
        "     and must not duplicate provider adjustment amounts (payments and contractual reductions) that have resulted from prior payer(s) adjudication. (Use only with Group Codes PR or CO\n",
        "     depending upon liability) (HIPAA Codes)\n",
        " D - PAYMENT FOR THIS PROCEDURE IS REDUCED DUE TO MODIFIER REDUCTION PAYMENT POLICY OR MULTIPLE PROCEDURE PAYMENT. REDUCTION POLICY. (MPPR - WHEN\n",
        "     MULTIPLE SERVICES ARE PERFORMED AT THE SAME TIME, ALL SUBSEQUENT SERVICES ARE REDUCED). /K704/\n",
        "\n",
        "\"\"\"\n",
        "\n",
        "# Define regex patterns for copay, deductible, and coinsurance\n",
        "copay_pattern = r'Copay\\s*\\$?\\s*([0-9,.]+)'\n",
        "deductible_pattern = r'Deductible\\s*\\$?\\s*([0-9,.]+)'\n",
        "coinsurance_pattern = r'Coinsurance\\s*\\$?\\s*([0-9,.]+)'\n",
        "\n",
        "# Extract copay, deductible, and coinsurance\n",
        "copay_match = re.search(copay_pattern, extracted_text)\n",
        "deductible_match = re.search(deductible_pattern, extracted_text)\n",
        "coinsurance_match = re.search(coinsurance_pattern, extracted_text)\n",
        "\n",
        "# Extracted values\n",
        "copay = copay_match.group(1) if copay_match else \"Not Found\"\n",
        "deductible = deductible_match.group(1) if deductible_match else \"Not Found\"\n",
        "coinsurance = coinsurance_match.group(1) if coinsurance_match else \"Not Found\"\n",
        "\n",
        "# Display extracted values\n",
        "print(f\"Copay: {copay}\")\n",
        "print(f\"Deductible: {deductible}\")\n",
        "print(f\"Coinsurance: {coinsurance}\")\n"
      ],
      "metadata": {
        "colab": {
          "base_uri": "https://localhost:8080/"
        },
        "id": "jeJirUG5COoP",
        "outputId": "86b6d447-ca52-4344-fd51-8e46a3238f09"
      },
      "execution_count": null,
      "outputs": [
        {
          "output_type": "stream",
          "name": "stdout",
          "text": [
            "Copay: Not Found\n",
            "Deductible: Not Found\n",
            "Coinsurance: Not Found\n"
          ]
        }
      ]
    },
    {
      "cell_type": "code",
      "source": [
        "#Extracting Copay\n",
        "\n",
        "import re\n",
        "\n",
        "text = \"Grand Totals:                                                                                                                                                                  Other Patient\\n   Line Charge         Allowed           QPA         Contractual        Payer Initiated              OA                Copay            Deductible          Coinsurance          Responsibility           Withhold\"\n",
        "copay_pattern = r'Copay\\s*\\$?\\s*([0-9,.]+)'\n",
        "copay_match = re.search(copay_pattern, text)\n",
        "\n",
        "copay = copay_match.group(1) if copay_match else \"Not Found\"\n",
        "print(f\"Copay: {copay}\")\n",
        "\n",
        "\n"
      ],
      "metadata": {
        "colab": {
          "base_uri": "https://localhost:8080/"
        },
        "id": "VIgQSwMuEfYz",
        "outputId": "b373d422-2a0f-4b07-d5b4-bcd98520f53e"
      },
      "execution_count": null,
      "outputs": [
        {
          "output_type": "stream",
          "name": "stdout",
          "text": [
            "Copay: Not Found\n"
          ]
        }
      ]
    },
    {
      "cell_type": "code",
      "source": [
        "import re\n",
        "\n",
        "# Sample input string\n",
        "data = '''\n",
        "Grand Totals:                                                                                                                                                                  Other Patient\n",
        "   Line Charge         Allowed           QPA         Contractual        Payer Initiated              OA                Copay            Deductible          Coinsurance          Responsibility           Withhold                  Paid\n",
        "     $327.24            $117.54         $0.00           $232.97               $0.00                 $0.00              $35.00               $0.00                $0.00                 $0.00                $0.00                  $59.27\n",
        "'''\n",
        "\n",
        "# Regex to capture dollar amounts\n",
        "pattern = r'\\$\\d+\\.\\d{2}'\n",
        "\n",
        "# Find all matches\n",
        "matches = re.findall(pattern, data)\n",
        "\n",
        "# Assign extracted values to corresponding categories\n",
        "categories = [\"Line Charge\", \"Allowed\", \"QPA\", \"Contractual\", \"Payer Initiated\", \"OA\", \"Copay\",\n",
        "              \"Deductible\", \"Coinsurance\", \"Responsibility\", \"Withhold\", \"Paid\"]\n",
        "\n",
        "# Create a dictionary with the categories and corresponding extracted values\n",
        "extracted_data = dict(zip(categories, matches))\n",
        "\n",
        "# Display extracted data\n",
        "for category, value in extracted_data.items():\n",
        "    print(f\"{category}: {value}\")\n"
      ],
      "metadata": {
        "colab": {
          "base_uri": "https://localhost:8080/"
        },
        "id": "LdvXfhhOEfcF",
        "outputId": "81592dd4-4dc1-4722-be1e-2fb5b3d4fec7"
      },
      "execution_count": null,
      "outputs": [
        {
          "output_type": "stream",
          "name": "stdout",
          "text": [
            "Line Charge: $327.24\n",
            "Allowed: $117.54\n",
            "QPA: $0.00\n",
            "Contractual: $232.97\n",
            "Payer Initiated: $0.00\n",
            "OA: $0.00\n",
            "Copay: $35.00\n",
            "Deductible: $0.00\n",
            "Coinsurance: $0.00\n",
            "Responsibility: $0.00\n",
            "Withhold: $0.00\n",
            "Paid: $59.27\n"
          ]
        }
      ]
    },
    {
      "cell_type": "code",
      "source": [
        "import re\n",
        "\n",
        "# Sample document text\n",
        "text = \"\"\"\n",
        "Provider Detail Advisory                                                                        Physicians: 1-800-882-2060\n",
        "                                                                                                                                                                                                          Hospitals:1-800-451-8123\n",
        "                                                                                                                    Professional                                                             Ancillary/Mental Health:1-800-451-8124\n",
        "                                                                                                                                                                                                            Dental: 1-800-882-1178\n",
        "MASSACHUSETTS                                                                                                                                                                                Out-of-State Providers -Eligibility, benefits, and\n",
        "                                                                                                                                                                                                                    claim status information is available\n",
        "                                                                                                                                                                                                                    by calling: 1-800-676-2583\n",
        "Blue Cross Blue Shie d ol Massachusetis is an Incependen                                                                                                                                     Out-of-State Providers -Please note your BCBSMA\n",
        "    censee Oltne Blue Cross and Blue Shield / ssociaticn                                                                                                                                                            courtesy 'provider number'\n",
        "  PROVIDER NUMBER                          PROVIDER                                                          PAYMENT                                                          SYSTEM INDICATOR\n",
        "  NPI Number:       1477245082             CC THERAPY GROUP PA                                               EFT NUMBER:                 738654548                                         N\n",
        "  Legacy Number:         0000Y61899        625 MASSACHUSETTS AVE                                             EFT DATE:                   01/18/2024\n",
        "  TIN:XXXXX0780                            CAMBRIDGE, MA 021393357                                           EFT AMOUNT:                 $448.87\n",
        "\n",
        "  Submitted ID#:       MTN982706845              Submitted Patient Name:           KAYLYNN BOWEN                                                     Patient Account #                                                  BCBSMA Responsibility\n",
        "                                                 Corrected Patient Name:           KAYLYNN, E, BOWEN                                                    KABO000001                                                                PRIMARY\n",
        "              Claim Number                                         Type of Bill                                                                                                                                  Click to view Payment Advisory\n",
        "            26240093664500                                               121\n",
        "  Line #          Date of Service                Modifier(s)          Place of Service        Line Msg Indicator                           Submitted Procedure: 97530               Submitted Units:        3\n",
        "     1       01/02/2024 01/02/2024-                                        4                  A B C D\n",
        "                                                                                                                                                                                   Other Patient\n",
        " Line Charge           Allowed           QPA         Contractual          Payer Initiated              OA               Copay             Deductible         Coinsurance           Responsibility          Withhold                   Paid\n",
        "    $327.24            $117.54           $0.00          $232.97                 $0.00                $0.00              $35.00               $0.00                $0.00                 $0.00                 $0.00                 $59.27\n",
        "  Grand Totals:                                                                                                                                                                  Other Patient\n",
        "   Line Charge         Allowed           QPA         Contractual        Payer Initiated              OA                Copay            Deductible          Coinsurance          Responsibility           Withhold                  Paid\n",
        "     $327.24            $117.54         $0.00           $232.97               $0.00                 $0.00              $35.00               $0.00                $0.00                 $0.00                $0.00                  $59.27\n",
        " A - PR 3 Co-payment Amount (HIPAA Codes)\n",
        " B - CO 59 Processed based on multiple or concurrent procedure rules. (For example multiple surgery or diagnostic imaging, concurrent anesthesia.) Usage: Refer to the 835 Healthcare Policy\n",
        "     Identification Segment (loop 2110 Service Payment Information REF), if present. (HIPAA Codes)\n",
        " C - CO 45 Charge exceeds fee schedule/maximum allowable or contracted/legislated fee arrangement. Usage: This adjustment amount cannot equal the total service or claim charge amount;\n",
        "     and must not duplicate provider adjustment amounts (payments and contractual reductions) that have resulted from prior payer(s) adjudication. (Use only with Group Codes PR or CO\n",
        "     depending upon liability) (HIPAA Codes)\n",
        " D - PAYMENT FOR THIS PROCEDURE IS REDUCED DUE TO MODIFIER REDUCTION PAYMENT POLICY OR MULTIPLE PROCEDURE PAYMENT. REDUCTION POLICY. (MPPR - WHEN\n",
        "\"\"\"\n",
        "\n",
        "pattern = r'Grand Totals:\\s*\\n*\\s*(\\$\\d+\\.\\d{2})\\s*(\\$\\d+\\.\\d{2})\\s*(\\$\\d+\\.\\d{2})\\s*(\\$\\d+\\.\\d{2})\\s*(\\$\\d+\\.\\d{2})\\s*(\\$\\d+\\.\\d{2})\\s*(\\$\\d+\\.\\d{2})\\s*(\\$\\d+\\.\\d{2})\\s*(\\$\\d+\\.\\d{2})\\s*(\\$\\d+\\.\\d{2})\\s*(\\$\\d+\\.\\d{2})\\s*(\\$\\d+\\.\\d{2})'\n",
        "\n",
        "# Find the match\n",
        "match = re.search(pattern, text, re.MULTILINE)\n",
        "\n",
        "# If match is found, create a dictionary to store the grand total values with corresponding labels\n",
        "if match:\n",
        "    grand_totals = {\n",
        "        \"Line Charge\": match.group(1),\n",
        "        \"Allowed\": match.group(2),\n",
        "        \"QPA\": match.group(3),\n",
        "        \"Contractual\": match.group(4),\n",
        "        \"Payer Initiated\": match.group(5),\n",
        "        \"OA\": match.group(6),\n",
        "        \"Copay\": match.group(7),\n",
        "        \"Deductible\": match.group(8),\n",
        "        \"Coinsurance\": match.group(9),\n",
        "        \"Responsibility\": match.group(10),\n",
        "        \"Withhold\": match.group(11),\n",
        "        \"Paid\": match.group(12)\n",
        "    }\n",
        "\n",
        "    # Display the extracted grand totals\n",
        "    for key, value in grand_totals.items():\n",
        "        print(f\"{key}: {value}\")\n",
        "else:\n",
        "    print(\"No grand totals found\")\n"
      ],
      "metadata": {
        "colab": {
          "base_uri": "https://localhost:8080/"
        },
        "id": "Rly25INvFiTj",
        "outputId": "45e4608a-4b8f-4ca8-dafd-e10c6ae0e476"
      },
      "execution_count": null,
      "outputs": [
        {
          "output_type": "stream",
          "name": "stdout",
          "text": [
            "No grand totals found\n"
          ]
        }
      ]
    },
    {
      "cell_type": "code",
      "source": [
        "import re\n",
        "\n",
        "# Provided document text\n",
        "text = \"\"\"\n",
        "                                                                                                                                                                                                          CONTACT INFORMATION\n",
        "                                                                                                        Provider Detail Advisory                                                                        Physicians: 1-800-882-2060\n",
        "                                                                                                                                                                                                          Hospitals:1-800-451-8123\n",
        "                                                                                                                    Professional                                                             Ancillary/Mental Health:1-800-451-8124\n",
        "                                                                                                                                                                                                            Dental: 1-800-882-1178\n",
        "MASSACHUSETTS                                                                                                                                                                                Out-of-State Providers -Eligibility, benefits, and\n",
        "                                                                                                                                                                                                                    claim status information is available\n",
        "                                                                                                                                                                                                                    by calling: 1-800-676-2583\n",
        "Blue Cross Blue Shie d ol Massachusetis is an Incependen                                                                                                                                     Out-of-State Providers -Please note your BCBSMA\n",
        "    censee Oltne Blue Cross and Blue Shield / ssociaticn                                                                                                                                                            courtesy 'provider number'\n",
        "  PROVIDER NUMBER                          PROVIDER                                                          PAYMENT                                                          SYSTEM INDICATOR\n",
        "  NPI Number:       1477245082             CC THERAPY GROUP PA                                               EFT NUMBER:                 738654548                                         N\n",
        "  Legacy Number:         0000Y61899        625 MASSACHUSETTS AVE                                             EFT DATE:                   01/18/2024\n",
        "  TIN:XXXXX0780                            CAMBRIDGE, MA 021393357                                           EFT AMOUNT:                 $448.87\n",
        "\n",
        "  Submitted ID#:       MTN982706845              Submitted Patient Name:           KAYLYNN BOWEN                                                     Patient Account #                                                  BCBSMA Responsibility\n",
        "                                                 Corrected Patient Name:           KAYLYNN, E, BOWEN                                                    KABO000001                                                                PRIMARY\n",
        "              Claim Number                                         Type of Bill                                                                                                                                  Click to view Payment Advisory\n",
        "            26240093664500                                               121\n",
        "  Line #          Date of Service                Modifier(s)          Place of Service        Line Msg Indicator                           Submitted Procedure: 97530               Submitted Units:        3\n",
        "     1       01/02/2024 01/02/2024-                                        4                  A B C D\n",
        "                                                                                                                                                                                   Other Patient\n",
        " Line Charge           Allowed           QPA         Contractual          Payer Initiated              OA               Copay             Deductible         Coinsurance           Responsibility          Withhold                   Paid\n",
        "    $327.24            $117.54           $0.00          $232.97                 $0.00                $0.00              $35.00               $0.00                $0.00                 $0.00                 $0.00                 $59.27\n",
        "  Grand Totals:                                                                                                                                                                  Other Patient\n",
        "   Line Charge         Allowed           QPA         Contractual        Payer Initiated              OA                Copay            Deductible          Coinsurance          Responsibility           Withhold                  Paid\n",
        "     $327.24            $117.54         $0.00           $232.97               $0.00                 $0.00              $35.00               $0.00                $0.00                 $0.00                $0.00                  $59.27\n",
        " A - PR 3 Co-payment Amount (HIPAA Codes)\n",
        " B - CO 59 Processed based on multiple or concurrent procedure rules. (For example multiple surgery or diagnostic imaging, concurrent anesthesia.) Usage: Refer to the 835 Healthcare Policy\n",
        "     Identification Segment (loop 2110 Service Payment Information REF), if present. (HIPAA Codes)\n",
        " C - CO 45 Charge exceeds fee schedule/maximum allowable or contracted/legislated fee arrangement. Usage: This adjustment amount cannot equal the total service or claim charge amount;\n",
        "     and must not duplicate provider adjustment amounts (payments and contractual reductions) that have resulted from prior payer(s) adjudication. (Use only with Group Codes PR or CO\n",
        "     depending upon liability) (HIPAA Codes)\n",
        " D - PAYMENT FOR THIS PROCEDURE IS REDUCED DUE TO MODIFIER REDUCTION PAYMENT POLICY OR MULTIPLE PROCEDURE PAYMENT. REDUCTION POLICY. (MPPR - WHEN\n",
        "     MULTIPLE SERVICES ARE PERFORMED AT THE SAME TIME, ALL SUBSEQUENT SERVICES ARE REDUCED). /K704/\n",
        "\"\"\"\n",
        "\n",
        "# Modified regex pattern to handle extra spaces and newlines\n",
        "pattern = r'Grand Totals:\\s*\\n*\\s*(\\$\\d+\\.\\d{2})\\s*(\\$\\d+\\.\\d{2})\\s*(\\$\\d+\\.\\d{2})\\s*(\\$\\d+\\.\\d{2})\\s*(\\$\\d+\\.\\d{2})\\s*(\\$\\d+\\.\\d{2})\\s*(\\$\\d+\\.\\d{2})\\s*(\\$\\d+\\.\\d{2})\\s*(\\$\\d+\\.\\d{2})\\s*(\\$\\d+\\.\\d{2})\\s*(\\$\\d+\\.\\d{2})\\s*(\\$\\d+\\.\\d{2})'\n",
        "\n",
        "# Find the match\n",
        "match = re.search(pattern, text, re.MULTILINE)\n",
        "\n",
        "# If match is found, create a dictionary to store the grand total values with corresponding labels\n",
        "if match:\n",
        "    grand_totals = {\n",
        "        \"Line Charge\": match.group(1),\n",
        "        \"Allowed\": match.group(2),\n",
        "        \"QPA\": match.group(3),\n",
        "        \"Contractual\": match.group(4),\n",
        "        \"Payer Initiated\": match.group(5),\n",
        "        \"OA\": match.group(6),\n",
        "        \"Copay\": match.group(7),\n",
        "        \"Deductible\": match.group(8),\n",
        "        \"Coinsurance\": match.group(9),\n",
        "        \"Responsibility\": match.group(10),\n",
        "        \"Withhold\": match.group(11),\n",
        "        \"Paid\": match.group(12)\n",
        "    }\n",
        "\n",
        "    # Display the extracted grand totals\n",
        "    for key, value in grand_totals.items():\n",
        "        print(f\"{key}: {value}\")\n",
        "else:\n",
        "    print(\"No grand totals found\")\n"
      ],
      "metadata": {
        "colab": {
          "base_uri": "https://localhost:8080/"
        },
        "id": "fkS5MjJJFiWx",
        "outputId": "2b5b80dc-6b8e-41ea-b1d6-82ae27a71862"
      },
      "execution_count": null,
      "outputs": [
        {
          "output_type": "stream",
          "name": "stdout",
          "text": [
            "No grand totals found\n"
          ]
        }
      ]
    },
    {
      "cell_type": "code",
      "source": [
        "import re\n",
        "\n",
        "# Full document text provided\n",
        "text = \"\"\"\n",
        " Provider Detail Advisory                                                                        Physicians: 1-800-882-2060\n",
        "                                                                                                                                                                                                          Hospitals:1-800-451-8123\n",
        "                                                                                                                    Professional                                                             Ancillary/Mental Health:1-800-451-8124\n",
        "                                                                                                                                                                                                            Dental: 1-800-882-1178\n",
        "MASSACHUSETTS                                                                                                                                                                                Out-of-State Providers -Eligibility, benefits, and\n",
        "                                                                                                                                                                                                                    claim status information is available\n",
        "                                                                                                                                                                                                                    by calling: 1-800-676-2583\n",
        "Blue Cross Blue Shie d ol Massachusetis is an Incependen                                                                                                                                     Out-of-State Providers -Please note your BCBSMA\n",
        "    censee Oltne Blue Cross and Blue Shield / ssociaticn                                                                                                                                                            courtesy 'provider number'\n",
        "  PROVIDER NUMBER                          PROVIDER                                                          PAYMENT                                                          SYSTEM INDICATOR\n",
        "  NPI Number:       1477245082             CC THERAPY GROUP PA                                               EFT NUMBER:                 738654548                                         N\n",
        "  Legacy Number:         0000Y61899        625 MASSACHUSETTS AVE                                             EFT DATE:                   01/18/2024\n",
        "  TIN:XXXXX0780                            CAMBRIDGE, MA 021393357                                           EFT AMOUNT:                 $448.87\n",
        "\n",
        "  Submitted ID#:       MTN982706845              Submitted Patient Name:           KAYLYNN BOWEN                                                     Patient Account #                                                  BCBSMA Responsibility\n",
        "                                                 Corrected Patient Name:           KAYLYNN, E, BOWEN                                                    KABO000001                                                                PRIMARY\n",
        "              Claim Number                                         Type of Bill                                                                                                                                  Click to view Payment Advisory\n",
        "            26240093664500                                               121\n",
        "  Line #          Date of Service                Modifier(s)          Place of Service        Line Msg Indicator                           Submitted Procedure: 97530               Submitted Units:        3\n",
        "     1       01/02/2024 01/02/2024-                                        4                  A B C D\n",
        "                                                                                                                                                                                   Other Patient\n",
        " Line Charge           Allowed           QPA         Contractual          Payer Initiated              OA               Copay             Deductible         Coinsurance           Responsibility          Withhold                   Paid\n",
        "    $327.24            $117.54           $0.00          $232.97                 $0.00                $0.00              $35.00               $0.00                $0.00                 $0.00                 $0.00                 $59.27\n",
        "  Grand Totals:                                                                                                                                                                  Other Patient\n",
        "   Line Charge         Allowed           QPA         Contractual        Payer Initiated              OA                Copay            Deductible          Coinsurance          Responsibility           Withhold                  Paid\n",
        "     $327.24            $117.54         $0.00           $232.97               $0.00                 $0.00              $35.00               $0.00                $0.00                 $0.00                $0.00                  $59.27\n",
        " A - PR 3 Co-payment Amount (HIPAA Codes)\n",
        " B - CO 59 Processed based on multiple or concurrent procedure rules. (For example multiple surgery or diagnostic imaging, concurrent anesthesia.) Usage: Refer to the 835 Healthcare Policy\n",
        "     Identification Segment (loop 2110 Service Payment Information REF), if present. (HIPAA Codes)\n",
        " C - CO 45 Charge exceeds fee schedule/maximum allowable or contracted/legislated fee arrangement. Usage: This adjustment amount cannot equal the total service or claim charge amount;\n",
        "     and must not duplicate provider adjustment amounts (payments and contractual reductions) that have resulted from prior payer(s) adjudication. (Use only with Group Codes PR or CO\n",
        "     depending upon liability) (HIPAA Codes)\n",
        " D - PAYMENT FOR THIS PROCEDURE IS REDUCED DUE TO MODIFIER REDUCTION PAYMENT POLICY OR MULTIPLE PROCEDURE PAYMENT. REDUCTION POLICY. (MPPR - WHEN\n",
        "     MULTIPLE SERVICES ARE PERFORMED AT THE SAME TIME, ALL SUBSEQUENT SERVICES ARE REDUCED). /K704/\n",
        "\n",
        "\"\"\"\n",
        "\n",
        "# Regex to extract Grand Totals\n",
        "pattern = r'Grand Totals:\\s*Other Patient\\s*Line Charge\\s*Allowed\\s*QPA\\s*Contractual\\s*Payer Initiated\\s*OA\\s*Copay\\s*Deductible\\s*Coinsurance\\s*Responsibility\\s*Withhold\\s*Paid\\s*(\\$\\d+\\.\\d{2})\\s*(\\$\\d+\\.\\d{2})\\s*(\\$\\d+\\.\\d{2})\\s*(\\$\\d+\\.\\d{2})\\s*(\\$\\d+\\.\\d{2})\\s*(\\$\\d+\\.\\d{2})\\s*(\\$\\d+\\.\\d{2})\\s*(\\$\\d+\\.\\d{2})\\s*(\\$\\d+\\.\\d{2})\\s*(\\$\\d+\\.\\d{2})\\s*(\\$\\d+\\.\\d{2})\\s*(\\$\\d+\\.\\d{2})'\n",
        "\n",
        "# Find the match\n",
        "matches = re.search(pattern, text)\n",
        "\n",
        "# Check if any matches found and print them\n",
        "if matches:\n",
        "    categories = [\"Line Charge\", \"Allowed\", \"QPA\", \"Contractual\", \"Payer Initiated\", \"OA\", \"Copay\",\n",
        "                  \"Deductible\", \"Coinsurance\", \"Responsibility\", \"Withhold\", \"Paid\"]\n",
        "    grand_totals = dict(zip(categories, matches.groups()))\n",
        "    for category, amount in grand_totals.items():\n",
        "        print(f\"{category}: {amount}\")\n",
        "else:\n",
        "    print(\"No grand totals found in the document.\")\n"
      ],
      "metadata": {
        "colab": {
          "base_uri": "https://localhost:8080/"
        },
        "id": "AVp3iDv_IZTy",
        "outputId": "2bcc1acf-c824-4398-d803-cd3ffe3e47f5"
      },
      "execution_count": null,
      "outputs": [
        {
          "output_type": "stream",
          "name": "stdout",
          "text": [
            "Line Charge: $327.24\n",
            "Allowed: $117.54\n",
            "QPA: $0.00\n",
            "Contractual: $232.97\n",
            "Payer Initiated: $0.00\n",
            "OA: $0.00\n",
            "Copay: $35.00\n",
            "Deductible: $0.00\n",
            "Coinsurance: $0.00\n",
            "Responsibility: $0.00\n",
            "Withhold: $0.00\n",
            "Paid: $59.27\n"
          ]
        }
      ]
    },
    {
      "cell_type": "code",
      "source": [],
      "metadata": {
        "id": "p7aXcf_VI6WZ"
      },
      "execution_count": null,
      "outputs": []
    },
    {
      "cell_type": "code",
      "source": [
        "import re\n",
        "\n",
        "# Full document text provided\n",
        "text = document[0].text\n",
        "\n",
        "# Regex to extract Grand Totals\n",
        "pattern = r'Grand Totals:\\s*Other Patient\\s*Line Charge\\s*Allowed\\s*QPA\\s*Contractual\\s*Payer Initiated\\s*OA\\s*Copay\\s*Deductible\\s*Coinsurance\\s*Responsibility\\s*Withhold\\s*Paid\\s*(\\$\\d+\\.\\d{2})\\s*(\\$\\d+\\.\\d{2})\\s*(\\$\\d+\\.\\d{2})\\s*(\\$\\d+\\.\\d{2})\\s*(\\$\\d+\\.\\d{2})\\s*(\\$\\d+\\.\\d{2})\\s*(\\$\\d+\\.\\d{2})\\s*(\\$\\d+\\.\\d{2})\\s*(\\$\\d+\\.\\d{2})\\s*(\\$\\d+\\.\\d{2})\\s*(\\$\\d+\\.\\d{2})\\s*(\\$\\d+\\.\\d{2})'\n",
        "\n",
        "# Find the match\n",
        "matches = re.search(pattern, text)\n",
        "\n",
        "# Check if any matches found and print them\n",
        "if matches:\n",
        "    categories = [\"Line Charge\", \"Allowed\", \"QPA\", \"Contractual\", \"Payer Initiated\", \"OA\", \"Copay\",\n",
        "                  \"Deductible\", \"Coinsurance\", \"Responsibility\", \"Withhold\", \"Paid\"]\n",
        "    grand_totals = dict(zip(categories, matches.groups()))\n",
        "    for category, amount in grand_totals.items():\n",
        "        print(f\"{category}: {amount}\")\n",
        "else:\n",
        "    print(\"No grand totals found in the document.\")\n"
      ],
      "metadata": {
        "colab": {
          "base_uri": "https://localhost:8080/"
        },
        "outputId": "4fa42b7f-4e6e-45ad-a32a-a5418fb53026",
        "id": "QpHM4aCKI6ll"
      },
      "execution_count": null,
      "outputs": [
        {
          "output_type": "stream",
          "name": "stdout",
          "text": [
            "Line Charge: $327.24\n",
            "Allowed: $117.54\n",
            "QPA: $0.00\n",
            "Contractual: $232.97\n",
            "Payer Initiated: $0.00\n",
            "OA: $0.00\n",
            "Copay: $35.00\n",
            "Deductible: $0.00\n",
            "Coinsurance: $0.00\n",
            "Responsibility: $0.00\n",
            "Withhold: $0.00\n",
            "Paid: $59.27\n"
          ]
        }
      ]
    },
    {
      "cell_type": "code",
      "source": [
        "#DOS and Grand Totals\n",
        "\n",
        "import re\n",
        "\n",
        "# Full document text provided\n",
        "text = document[0].text\n",
        "\n",
        "# Regex to extract Grand Totals and Date of Service\n",
        "totals_pattern = r'Grand Totals:\\s*Other Patient\\s*Line Charge\\s*Allowed\\s*QPA\\s*Contractual\\s*Payer Initiated\\s*OA\\s*Copay\\s*Deductible\\s*Coinsurance\\s*Responsibility\\s*Withhold\\s*Paid\\s*(\\$\\d+\\.\\d{2})\\s*(\\$\\d+\\.\\d{2})\\s*(\\$\\d+\\.\\d{2})\\s*(\\$\\d+\\.\\d{2})\\s*(\\$\\d+\\.\\d{2})\\s*(\\$\\d+\\.\\d{2})\\s*(\\$\\d+\\.\\d{2})\\s*(\\$\\d+\\.\\d{2})\\s*(\\$\\d+\\.\\d{2})\\s*(\\$\\d+\\.\\d{2})\\s*(\\$\\d+\\.\\d{2})\\s*(\\$\\d+\\.\\d{2})'\n",
        "date_pattern = r'Date of Service\\s*Modifier\\(s\\)\\s*Place of Service\\s*(\\d{2}/\\d{2}/\\d{4})'\n",
        "\n",
        "# Find the matches\n",
        "totals_match = re.search(totals_pattern, text)\n",
        "date_match = re.search(date_pattern, text)\n",
        "\n",
        "# Check if any matches found and print them\n",
        "if totals_match:\n",
        "    categories = [\"Line Charge\", \"Allowed\", \"QPA\", \"Contractual\", \"Payer Initiated\", \"OA\", \"Copay\",\n",
        "                  \"Deductible\", \"Coinsurance\", \"Responsibility\", \"Withhold\", \"Paid\"]\n",
        "    grand_totals = dict(zip(categories, totals_match.groups()))\n",
        "    for category, amount in grand_totals.items():\n",
        "        print(f\"{category}: {amount}\")\n",
        "else:\n",
        "    print(\"No grand totals found in the document.\")\n",
        "\n",
        "if date_match:\n",
        "    print(f\"Date of Service: {date_match.group(1)}\")\n",
        "else:\n",
        "    print(\"No date of service found in the document.\")\n"
      ],
      "metadata": {
        "colab": {
          "base_uri": "https://localhost:8080/"
        },
        "id": "qNZhdiC93kfK",
        "outputId": "5a4d642e-2a98-4957-f321-70f2e8fc2a84"
      },
      "execution_count": null,
      "outputs": [
        {
          "output_type": "stream",
          "name": "stdout",
          "text": [
            "Line Charge: $327.24\n",
            "Allowed: $117.54\n",
            "QPA: $0.00\n",
            "Contractual: $232.97\n",
            "Payer Initiated: $0.00\n",
            "OA: $0.00\n",
            "Copay: $35.00\n",
            "Deductible: $0.00\n",
            "Coinsurance: $0.00\n",
            "Responsibility: $0.00\n",
            "Withhold: $0.00\n",
            "Paid: $59.27\n",
            "No date of service found in the document.\n"
          ]
        }
      ]
    },
    {
      "cell_type": "code",
      "source": [
        "import re\n",
        "\n",
        "# Full document text provided\n",
        "text = \"\"\"\n",
        "                                                                                                                                                                                                          CONTACT INFORMATION\n",
        "                                                                                                        Provider Detail Advisory                                                                        Physicians: 1-800-882-2060\n",
        "                                                                                                                                                                                                          Hospitals:1-800-451-8123\n",
        "                                                                                                                    Professional                                                             Ancillary/Mental Health:1-800-451-8124\n",
        "                                                                                                                                                                                                            Dental: 1-800-882-1178\n",
        "MASSACHUSETTS                                                                                                                                                                                Out-of-State Providers -Eligibility, benefits, and\n",
        "                                                                                                                                                                                                                    claim status information is available\n",
        "                                                                                                                                                                                                                    by calling: 1-800-676-2583\n",
        "Blue Cross Blue Shie d ol Massachusetis is an Incependen                                                                                                                                     Out-of-State Providers -Please note your BCBSMA\n",
        "    censee Oltne Blue Cross and Blue Shield / ssociaticn                                                                                                                                                            courtesy 'provider number'\n",
        "  PROVIDER NUMBER                          PROVIDER                                                          PAYMENT                                                          SYSTEM INDICATOR\n",
        "  NPI Number:       1477245082             CC THERAPY GROUP PA                                               EFT NUMBER:                 738654548                                         N\n",
        "  Legacy Number:         0000Y61899        625 MASSACHUSETTS AVE                                             EFT DATE:                   01/18/2024\n",
        "  TIN:XXXXX0780                            CAMBRIDGE, MA 021393357                                           EFT AMOUNT:                 $448.87\n",
        "\n",
        "  Submitted ID#:       MTN982706845              Submitted Patient Name:           KAYLYNN BOWEN                                                     Patient Account #                                                  BCBSMA Responsibility\n",
        "                                                 Corrected Patient Name:           KAYLYNN, E, BOWEN                                                    KABO000001                                                                PRIMARY\n",
        "              Claim Number                                         Type of Bill                                                                                                                                  Click to view Payment Advisory\n",
        "            26240093664500                                               121\n",
        "  Line #          Date of Service                Modifier(s)          Place of Service        Line Msg Indicator                           Submitted Procedure: 97530               Submitted Units:        3\n",
        "     1       01/02/2024 01/02/2024-                                        4                  A B C D\n",
        "                                                                                                                                                                                   Other Patient\n",
        " Line Charge           Allowed           QPA         Contractual          Payer Initiated              OA               Copay             Deductible         Coinsurance           Responsibility          Withhold                   Paid\n",
        "    $327.24            $117.54           $0.00          $232.97                 $0.00                $0.00              $35.00               $0.00                $0.00                 $0.00                 $0.00                 $59.27\n",
        "  Grand Totals:                                                                                                                                                                  Other Patient\n",
        "   Line Charge         Allowed           QPA         Contractual        Payer Initiated              OA                Copay            Deductible          Coinsurance          Responsibility           Withhold                  Paid\n",
        "     $327.24            $117.54         $0.00           $232.97               $0.00                 $0.00              $35.00               $0.00                $0.00                 $0.00                $0.00                  $59.27\n",
        " A - PR 3 Co-payment Amount (HIPAA Codes)\n",
        " B - CO 59 Processed based on multiple or concurrent procedure rules. (For example multiple surgery or diagnostic imaging, concurrent anesthesia.) Usage: Refer to the 835 Healthcare Policy\n",
        "     Identification Segment (loop 2110 Service Payment Information REF), if present. (HIPAA Codes)\n",
        " C - CO 45 Charge exceeds fee schedule/maximum allowable or contracted/legislated fee arrangement. Usage: This adjustment amount cannot equal the total service or claim charge amount;\n",
        "     and must not duplicate provider adjustment amounts (payments and contractual reductions) that have resulted from prior payer(s) adjudication. (Use only with Group Codes PR or CO\n",
        "     depending upon liability) (HIPAA Codes)\n",
        " D - PAYMENT FOR THIS PROCEDURE IS REDUCED DUE TO MODIFIER REDUCTION PAYMENT POLICY OR MULTIPLE PROCEDURE PAYMENT. REDUCTION POLICY. (MPPR - WHEN\n",
        "     MULTIPLE SERVICES ARE PERFORMED AT THE SAME TIME, ALL SUBSEQUENT SERVICES ARE REDUCED). /K704/\n",
        "\"\"\"\n",
        "\n",
        "# Regex to extract the Date of Service\n",
        "date_pattern = r'Date of Service\\s+([\\d]{2}/[\\d]{2}/[\\d]{4})'\n",
        "\n",
        "# Find the match\n",
        "date_match = re.search(date_pattern, text)\n",
        "\n",
        "# Check if the date was found and print it\n",
        "if date_match:\n",
        "    print(f\"Date of Service: {date_match.group(1)}\")\n",
        "else:\n",
        "    print(\"No date of service found in the document.\")\n"
      ],
      "metadata": {
        "colab": {
          "base_uri": "https://localhost:8080/"
        },
        "id": "x3FvjhZi4i2L",
        "outputId": "23a09111-6377-43d4-b4bc-5b6a8cff9e50"
      },
      "execution_count": null,
      "outputs": [
        {
          "output_type": "stream",
          "name": "stdout",
          "text": [
            "No date of service found in the document.\n"
          ]
        }
      ]
    },
    {
      "cell_type": "code",
      "source": [
        "import re\n",
        "\n",
        "# Full document text provided\n",
        "text = \"\"\"\n",
        "                                                                                                                                                                                                          CONTACT INFORMATION\n",
        "                                                                                                        Provider Detail Advisory                                                                        Physicians: 1-800-882-2060\n",
        "                                                                                                                                                                                                          Hospitals:1-800-451-8123\n",
        "                                                                                                                    Professional                                                             Ancillary/Mental Health:1-800-451-8124\n",
        "                                                                                                                                                                                                            Dental: 1-800-882-1178\n",
        "MASSACHUSETTS                                                                                                                                                                                Out-of-State Providers -Eligibility, benefits, and\n",
        "                                                                                                                                                                                                                    claim status information is available\n",
        "                                                                                                                                                                                                                    by calling: 1-800-676-2583\n",
        "Blue Cross Blue Shie d ol Massachusetis is an Incependen                                                                                                                                     Out-of-State Providers -Please note your BCBSMA\n",
        "    censee Oltne Blue Cross and Blue Shield / ssociaticn                                                                                                                                                            courtesy 'provider number'\n",
        "  PROVIDER NUMBER                          PROVIDER                                                          PAYMENT                                                          SYSTEM INDICATOR\n",
        "  NPI Number:       1477245082             CC THERAPY GROUP PA                                               EFT NUMBER:                 738654548                                         N\n",
        "  Legacy Number:         0000Y61899        625 MASSACHUSETTS AVE                                             EFT DATE:                   01/18/2024\n",
        "  TIN:XXXXX0780                            CAMBRIDGE, MA 021393357                                           EFT AMOUNT:                 $448.87\n",
        "\n",
        "  Submitted ID#:       MTN982706845              Submitted Patient Name:           KAYLYNN BOWEN                                                     Patient Account #                                                  BCBSMA Responsibility\n",
        "              Claim Number                                         Type of Bill                                                                                                                                  Click to view Payment Advisory\n",
        "            26240093664500                                               121\n",
        "  Line #          Date of Service                Modifier(s)          Place of Service        Line Msg Indicator                           Submitted Procedure: 97530               Submitted Units:        3\n",
        "     1       01/02/2024 01/02/2024-                                        4                  A B C D\n",
        "                                                                                                                                                                                   Other Patient\n",
        " Line Charge           Allowed           QPA         Contractual          Payer Initiated              OA               Copay             Deductible         Coinsurance           Responsibility          Withhold                   Paid\n",
        "    $327.24            $117.54           $0.00          $232.97                 $0.00                $0.00              $35.00               $0.00                $0.00                 $0.00                 $0.00                 $59.27\n",
        "  Grand Totals:                                                                                                                                                                  Other Patient\n",
        "   Line Charge         Allowed           QPA         Contractual        Payer Initiated              OA                Copay            Deductible          Coinsurance          Responsibility           Withhold                  Paid\n",
        "     $327.24            $117.54         $0.00           $232.97               $0.00                 $0.00              $35.00               $0.00                $0.00                 $0.00                $0.00                  $59.27\n",
        " A - PR 3 Co-payment Amount (HIPAA Codes)\n",
        " B - CO 59 Processed based on multiple or concurrent procedure rules. (For example multiple surgery or diagnostic imaging, concurrent anesthesia.) Usage: Refer to the 835 Healthcare Policy\n",
        "     Identification Segment (loop 2110 Service Payment Information REF), if present. (HIPAA Codes)\n",
        " C - CO 45 Charge exceeds fee schedule/maximum allowable or contracted/legislated fee arrangement. Usage: This adjustment amount cannot equal the total service or claim charge amount;\n",
        "     and must not duplicate provider adjustment amounts (payments and contractual reductions) that have resulted from prior payer(s) adjudication. (Use only with Group Codes PR or CO\n",
        "     depending upon liability) (HIPAA Codes)\n",
        " D - PAYMENT FOR THIS PROCEDURE IS REDUCED DUE TO MODIFIER REDUCTION PAYMENT POLICY OR MULTIPLE PROCEDURE PAYMENT. REDUCTION POLICY. (MPPR - WHEN\n",
        "     MULTIPLE SERVICES ARE PERFORMED AT THE SAME TIME, ALL SUBSEQUENT SERVICES ARE REDUCED). /K704/\n",
        "\"\"\"\n",
        "\n",
        "# Regex to extract the Date of Service more robustly\n",
        "date_pattern = r'Date of Service\\s*[\\d]+\\s*(\\d{2}/\\d{2}/\\d{4})'\n",
        "\n",
        "# Find the match\n",
        "date_match = re.search(date_pattern, text)\n",
        "\n",
        "# Check if the date was found and print it\n",
        "if date_match:\n",
        "    print(f\"Date of Service: {date_match.group(1)}\")\n",
        "else:\n",
        "    print(\"No date of service found in the document.\")\n"
      ],
      "metadata": {
        "colab": {
          "base_uri": "https://localhost:8080/"
        },
        "id": "fRgV2D1a4i5t",
        "outputId": "755b43e0-d46d-40ba-e600-0a5cbdddf361"
      },
      "execution_count": null,
      "outputs": [
        {
          "output_type": "stream",
          "name": "stdout",
          "text": [
            "No date of service found in the document.\n"
          ]
        }
      ]
    },
    {
      "cell_type": "code",
      "source": [
        "import re\n",
        "\n",
        "# Full document text provided\n",
        "text = \"\"\"\n",
        "                                                                                                                                                                                                          CONTACT INFORMATION\n",
        "                                                                                                        Provider Detail Advisory                                                                        Physicians: 1-800-882-2060\n",
        "                                                                                                                                                                                                          Hospitals:1-800-451-8123\n",
        "                                                                                                                    Professional                                                             Ancillary/Mental Health:1-800-451-8124\n",
        "                                                                                                                                                                                                            Dental: 1-800-882-1178\n",
        "MASSACHUSETTS                                                                                                                                                                                Out-of-State Providers -Eligibility, benefits, and\n",
        "                                                                                                                                                                                                                    claim status information is available\n",
        "                                                                                                                                                                                                                    by calling: 1-800-676-2583\n",
        "Blue Cross Blue Shie d ol Massachusetis is an Incependen                                                                                                                                     Out-of-State Providers -Please note your BCBSMA\n",
        "    censee Oltne Blue Cross and Blue Shield / ssociaticn                                                                                                                                                            courtesy 'provider number'\n",
        "  PROVIDER NUMBER                          PROVIDER                                                          PAYMENT                                                          SYSTEM INDICATOR\n",
        "  NPI Number:       1477245082             CC THERAPY GROUP PA                                               EFT NUMBER:                 738654548                                         N\n",
        "  Legacy Number:         0000Y61899        625 MASSACHUSETTS AVE                                             EFT DATE:                   01/18/2024\n",
        "  TIN:XXXXX0780                            CAMBRIDGE, MA 021393357                                           EFT AMOUNT:                 $448.87\n",
        "\n",
        "  Submitted ID#:       MTN982706845              Submitted Patient Name:           KAYLYNN BOWEN                                                     Patient Account #                                                  BCBSMA Responsibility\n",
        "              Claim Number                                         Type of Bill                                                                                                                                  Click to view Payment Advisory\n",
        "            26240093664500                                               121\n",
        "  Line #          Date of Service                Modifier(s)          Place of Service        Line Msg Indicator                           Submitted Procedure: 97530               Submitted Units:        3\n",
        "     1       01/02/2024 01/02/2024-                                        4                  A B C D\n",
        "                                                                                                                                                                                   Other Patient\n",
        " Line Charge           Allowed           QPA         Contractual          Payer Initiated              OA               Copay             Deductible         Coinsurance           Responsibility          Withhold                   Paid\n",
        "    $327.24            $117.54           $0.00          $232.97                 $0.00                $0.00              $35.00               $0.00                $0.00                 $0.00                 $0.00                 $59.27\n",
        "  Grand Totals:                                                                                                                                                                  Other Patient\n",
        "   Line Charge         Allowed           QPA         Contractual        Payer Initiated              OA                Copay            Deductible          Coinsurance          Responsibility           Withhold                  Paid\n",
        "     $327.24            $117.54         $0.00           $232.97               $0.00                 $0.00              $35.00               $0.00                $0.00                 $0.00                $0.00                  $59.27\n",
        " A - PR 3 Co-payment Amount (HIPAA Codes)\n",
        " B - CO 59 Processed based on multiple or concurrent procedure rules. (For example multiple surgery or diagnostic imaging, concurrent anesthesia.) Usage: Refer to the 835 Healthcare Policy\n",
        "     Identification Segment (loop 2110 Service Payment Information REF), if present. (HIPAA Codes)\n",
        " C - CO 45 Charge exceeds fee schedule/maximum allowable or contracted/legislated fee arrangement. Usage: This adjustment amount cannot equal the total service or claim charge amount;\n",
        "     and must not duplicate provider adjustment amounts (payments and contractual reductions) that have resulted from prior payer(s) adjudication. (Use only with Group Codes PR or CO\n",
        "     depending upon liability) (HIPAA Codes)\n",
        " D - PAYMENT FOR THIS PROCEDURE IS REDUCED DUE TO MODIFIER REDUCTION PAYMENT POLICY OR MULTIPLE PROCEDURE PAYMENT. REDUCTION POLICY. (MPPR - WHEN\n",
        "     MULTIPLE SERVICES ARE PERFORMED AT THE SAME TIME, ALL SUBSEQUENT SERVICES ARE REDUCED). /K704/\n",
        "\"\"\"\n",
        "\n",
        "# Regex to extract the Date of Service more robustly, considering all potential line breaks and space variations\n",
        "date_pattern = r'Date of Service[^\\d]*(\\d{2}/\\d{2}/\\d{4})'\n",
        "\n",
        "# Find the match\n",
        "date_match = re.search(date_pattern, text)\n",
        "\n",
        "# Check if the date was found and print it\n",
        "if date_match:\n",
        "    print(f\"Date of Service: {date_match.group(1)}\")\n",
        "else:\n",
        "    print(\"No date of service found in the document.\")\n"
      ],
      "metadata": {
        "colab": {
          "base_uri": "https://localhost:8080/"
        },
        "id": "O4x7x-0l5O8i",
        "outputId": "d95a7f72-2b95-4916-c9d9-fee1c592dca0"
      },
      "execution_count": null,
      "outputs": [
        {
          "output_type": "stream",
          "name": "stdout",
          "text": [
            "No date of service found in the document.\n"
          ]
        }
      ]
    },
    {
      "cell_type": "code",
      "source": [
        "import re\n",
        "\n",
        "# Full document text provided\n",
        "text = \"\"\"\n",
        "                                                                                                                                                                                                          CONTACT INFORMATION\n",
        "                                                                                                        Provider Detail Advisory                                                                        Physicians: 1-800-882-2060\n",
        "                                                                                                                                                                                                          Hospitals:1-800-451-8123\n",
        "                                                                                                                    Professional                                                             Ancillary/Mental Health:1-800-451-8124\n",
        "                                                                                                                                                                                                            Dental: 1-800-882-1178\n",
        "MASSACHUSETTS                                                                                                                                                                                Out-of-State Providers -Eligibility, benefits, and\n",
        "                                                                                                                                                                                                                    claim status information is available\n",
        "                                                                                                                                                                                                                    by calling: 1-800-676-2583\n",
        "Blue Cross Blue Shie d ol Massachusetis is an Incependen                                                                                                                                     Out-of-State Providers -Please note your BCBSMA\n",
        "    censee Oltne Blue Cross and Blue Shield / ssociaticn                                                                                                                                                            courtesy 'provider number'\n",
        "  PROVIDER NUMBER                          PROVIDER                                                          PAYMENT                                                          SYSTEM INDICATOR\n",
        "  NPI Number:       1477245082             CC THERAPY GROUP PA                                               EFT NUMBER:                 738654548                                         N\n",
        "  Legacy Number:         0000Y61899        625 MASSACHUSETTS AVE                                             EFT DATE:                   01/18/2024\n",
        "  TIN:XXXXX0780                            CAMBRIDGE, MA 021393357                                           EFT AMOUNT:                 $448.87\n",
        "\n",
        "  Submitted ID#:       MTN982706845              Submitted Patient Name:           KAYLYNN BOWEN                                                     Patient Account #                                                  BCBSMA Responsibility\n",
        "              Claim Number                                         Type of Bill                                                                                                                                  Click to view Payment Advisory\n",
        "            26240093664500                                               121\n",
        "  Line #          Date of Service                Modifier(s)          Place of Service        Line Msg Indicator                           Submitted Procedure: 97530               Submitted Units:        3\n",
        "     1       01/02/2024 01/02/2024-                                        4                  A B C D\n",
        "                                                                                                                                                                                   Other Patient\n",
        " Line Charge           Allowed           QPA         Contractual          Payer Initiated              OA               Copay             Deductible         Coinsurance           Responsibility          Withhold                   Paid\n",
        "    $327.24            $117.54           $0.00          $232.97                 $0.00                $0.00              $35.00               $0.00                $0.00                 $0.00                 $0.00                 $59.27\n",
        "  Grand Totals:                                                                                                                                                                  Other Patient\n",
        "   Line Charge         Allowed           QPA         Contractual        Payer Initiated              OA                Copay            Deductible          Coinsurance          Responsibility           Withhold                  Paid\n",
        "     $327.24            $117.54         $0.00           $232.97               $0.00                 $0.00              $35.00               $0.00                $0.00                 $0.00                $0.00                  $59.27\n",
        " A - PR 3 Co-payment Amount (HIPAA Codes)\n",
        " B - CO 59 Processed based on multiple or concurrent procedure rules. (For example multiple surgery or diagnostic imaging, concurrent anesthesia.) Usage: Refer to the 835 Healthcare Policy\n",
        "     Identification Segment (loop 2110 Service Payment Information REF), if present. (HIPAA Codes)\n",
        " C - CO 45 Charge exceeds fee schedule/maximum allowable or contracted/legislated fee arrangement. Usage: This adjustment amount cannot equal the total service or claim charge amount;\n",
        "     and must not duplicate provider adjustment amounts (payments and contractual reductions) that have resulted from prior payer(s) adjudication. (Use only with Group Codes PR or CO\n",
        "     depending upon liability) (HIPAA Codes)\n",
        " D - PAYMENT FOR THIS PROCEDURE IS REDUCED DUE TO MODIFIER REDUCTION PAYMENT POLICY OR MULTIPLE PROCEDURE PAYMENT. REDUCTION POLICY. (MPPR - WHEN\n",
        "     MULTIPLE SERVICES ARE PERFORMED AT THE SAME TIME, ALL SUBSEQUENT SERVICES ARE REDUCED). /K704/\n",
        "\"\"\"\n",
        "\n",
        "# Updated regex pattern to find the Date of Service\n",
        "date_pattern = r'Date of Service\\s*:\\s*(\\d{2}/\\d{2}/\\d{4}(?:\\s*-\\s*\\d{2}/\\d{2}/\\d{4})?)'\n",
        "\n",
        "# Find the match\n",
        "date_match = re.search(date_pattern, text)\n",
        "\n",
        "# Check if the date was found and print it\n",
        "if date_match:\n",
        "    print(f\"Date of Service: {date_match.group(1)}\")\n",
        "else:\n",
        "    print(\"No date of service found in the document.\")\n"
      ],
      "metadata": {
        "colab": {
          "base_uri": "https://localhost:8080/"
        },
        "id": "wNNssULU5gZt",
        "outputId": "debe896d-2800-46e2-8bba-87e268101d47"
      },
      "execution_count": null,
      "outputs": [
        {
          "output_type": "stream",
          "name": "stdout",
          "text": [
            "No date of service found in the document.\n"
          ]
        }
      ]
    },
    {
      "cell_type": "code",
      "source": [
        "import re\n",
        "\n",
        "# Full document text provided\n",
        "text = \"\"\"\n",
        "  Line #          Date of Service                Modifier(s)          Place of Service        Line Msg Indicator                           Submitted Procedure: 97530               Submitted Units:        3\n",
        "     1       01/02/2024 01/02/2024-                                        4                  A B C D\n",
        "\"\"\"\n",
        "\n",
        "# Updated regex pattern to find the Date of Service\n",
        "date_pattern = r'Date of Service\\s+[\\w\\#]+\\s+(\\d{2}/\\d{2}/\\d{4})'\n",
        "\n",
        "# Find the match\n",
        "date_match = re.search(date_pattern, text)\n",
        "\n",
        "# Check if the date was found and print it\n",
        "if date_match:\n",
        "    print(f\"Date of Service: {date_match.group(1)}\")\n",
        "else:\n",
        "    print(\"No date of service found in the document.\")\n"
      ],
      "metadata": {
        "colab": {
          "base_uri": "https://localhost:8080/"
        },
        "id": "xeA4OvyB5uqj",
        "outputId": "8f269b57-18f0-43e1-d83f-097fa1092836"
      },
      "execution_count": null,
      "outputs": [
        {
          "output_type": "stream",
          "name": "stdout",
          "text": [
            "No date of service found in the document.\n"
          ]
        }
      ]
    },
    {
      "cell_type": "code",
      "source": [
        "\n",
        "import re\n",
        "\n",
        "# Full document text provided\n",
        "text = \"\"\"\n",
        "  Line #          Date of Service                Modifier(s)          Place of Service        Line Msg Indicator                           Submitted Procedure: 97530               Submitted Units:        3\n",
        "     1       01/02/2024 01/02/2024-                                        4                  A B C D\n",
        "\"\"\"\n",
        "\n",
        "# More generalized regex pattern to find the Date of Service including ranges\n",
        "date_pattern = r'Date of Service\\s+\\d+\\s+(\\d{2}/\\d{2}/\\d{4})\\s+(\\d{2}/\\d{2}/\\d{4})-'\n",
        "\n",
        "# Find the match\n",
        "date_match = re.search(date_pattern, text)\n",
        "\n",
        "# Check if the date was found and print it\n",
        "if date_match:\n",
        "    start_date = date_match.group(1)\n",
        "    end_date = date_match.group(2)\n",
        "    print(f\"Date of Service Range: From {start_date} to {end_date}-\")\n",
        "else:\n",
        "    print(\"No date of service found in the document.\")\n",
        "\n"
      ],
      "metadata": {
        "colab": {
          "base_uri": "https://localhost:8080/"
        },
        "id": "-NPAnJhV6Gfj",
        "outputId": "f247b25e-c0fb-4eaf-8b06-e5b9d75ecb88"
      },
      "execution_count": null,
      "outputs": [
        {
          "output_type": "stream",
          "name": "stdout",
          "text": [
            "No date of service found in the document.\n"
          ]
        }
      ]
    },
    {
      "cell_type": "code",
      "source": [
        "import re\n",
        "\n",
        "# Assuming the 'text' variable contains your full document content\n",
        "text = \"\"\"\n",
        "  Line #          Date of Service                Modifier(s)          Place of Service        Line Msg Indicator                           Submitted Procedure: 97530               Submitted Units:        3\n",
        "     1       01/02/2024 01/02/2024-                                        4                  A B C D\n",
        "\"\"\"\n",
        "\n",
        "# Let's print out a section around where we expect the 'Date of Service' to confirm the exact text\n",
        "start_index = text.find('Date of Service')\n",
        "end_index = start_index + 300  # Adjust this value based on the length of the section you want to inspect\n",
        "print(text[start_index:end_index])\n",
        "\n",
        "# Manually adjust and test a regex pattern based on the printed output\n",
        "date_pattern = r'Date of Service\\s+#?\\s+(\\d{2}/\\d{2}/\\d{4})\\s+(\\d{2}/\\d{2}/\\d{4})-'\n",
        "\n",
        "# Find the match\n",
        "date_match = re.search(date_pattern, text)\n",
        "\n",
        "# Check if the date was found and print it\n",
        "if date_match:\n",
        "    start_date = date_match.group(1)\n",
        "    end_date = date_match.group(2)\n",
        "    print(f\"Date of Service: {start_date} to {end_date}-\")\n",
        "else:\n",
        "    print(\"No date of service found in the document.\")\n"
      ],
      "metadata": {
        "colab": {
          "base_uri": "https://localhost:8080/"
        },
        "id": "XFz6ZL_U7EyN",
        "outputId": "551fe211-4c90-4c87-9dfd-69da68abeea8"
      },
      "execution_count": null,
      "outputs": [
        {
          "output_type": "stream",
          "name": "stdout",
          "text": [
            "Date of Service                Modifier(s)          Place of Service        Line Msg Indicator                           Submitted Procedure: 97530               Submitted Units:        3\n",
            "     1       01/02/2024 01/02/2024-                                        4                  A B C D\n",
            "\n",
            "No date of service found in the document.\n"
          ]
        }
      ]
    },
    {
      "cell_type": "code",
      "source": [
        "import re\n",
        "\n",
        "# Sample text (replace this with the actual document text)\n",
        "text = \"\"\"\n",
        "  Line #          Date of Service                Modifier(s)          Place of Service        Line Msg Indicator                           Submitted Procedure: 97530               Submitted Units:        3\n",
        "     1       01/02/2024 01/02/2024-                                        4                  A B C D\n",
        "\"\"\"\n",
        "\n",
        "# First, extract the line or lines containing \"Date of Service\"\n",
        "lines_with_dates = re.findall(r'.*Date of Service.*', text)\n",
        "\n",
        "# Initialize variable to store the dates\n",
        "dates_extracted = []\n",
        "\n",
        "# Now, parse each line to extract the date or date range\n",
        "date_pattern = r'(\\d{2}/\\d{2}/\\d{4})\\s+(\\d{2}/\\d{2}/\\d{4})-'\n",
        "\n",
        "for line in lines_with_dates:\n",
        "    date_matches = re.search(date_pattern, line)\n",
        "    if date_matches:\n",
        "        # Add found dates to the list\n",
        "        dates_extracted.append((date_matches.group(1), date_matches.group(2)))\n",
        "\n",
        "# Print the results\n",
        "if dates_extracted:\n",
        "    for start_date, end_date in dates_extracted:\n",
        "        print(f\"Date of Service: {start_date} to {end_date}-\")\n",
        "else:\n",
        "    print(\"No date of service found in the document.\")\n"
      ],
      "metadata": {
        "colab": {
          "base_uri": "https://localhost:8080/"
        },
        "id": "4gF5M6d67fvO",
        "outputId": "7c1bbddd-c483-41bb-e9b8-28da760053bf"
      },
      "execution_count": null,
      "outputs": [
        {
          "output_type": "stream",
          "name": "stdout",
          "text": [
            "No date of service found in the document.\n"
          ]
        }
      ]
    },
    {
      "cell_type": "code",
      "source": [
        "import re\n",
        "\n",
        "# Sample text simulating your document's structure\n",
        "text = \"\"\"\n",
        "  Line #          Date of Service                Modifier(s)          Place of Service        Line Msg Indicator                           Submitted Procedure: 97530               Submitted Units:        3\n",
        "     1       01/02/2024 01/02/2024-                                        4                  A B C D\n",
        "\"\"\"\n",
        "\n",
        "# Find the line containing \"Date of Service\" using a broad pattern to ensure we capture the entire line\n",
        "line_pattern = r'(?<=Line #)(.*?Date of Service.*?\\n)'\n",
        "\n",
        "# Extract the line\n",
        "line_extracted = re.search(line_pattern, text, re.DOTALL)\n",
        "\n",
        "if line_extracted:\n",
        "    # Extracted line\n",
        "    service_line = line_extracted.group(0).strip()\n",
        "    print(\"Extracted Line:\", service_line)\n",
        "\n",
        "    # Now, apply a specific regex to this line to find the date range\n",
        "    date_pattern = r'(\\d{2}/\\d{2}/\\d{4})\\s+(\\d{2}/\\d{2}/\\d{4})\\-'\n",
        "    date_match = re.search(date_pattern, service_line)\n",
        "\n",
        "    if date_match:\n",
        "        start_date = date_match.group(1)\n",
        "        end_date = date_match.group(2)\n",
        "        print(f\"Date of Service Range: From {start_date} to {end_date}\")\n",
        "    else:\n",
        "        print(\"No date of service found in the extracted line.\")\n",
        "else:\n",
        "    print(\"No line containing 'Date of Service' found.\")\n",
        "\n"
      ],
      "metadata": {
        "colab": {
          "base_uri": "https://localhost:8080/"
        },
        "id": "bT9jbgd774u6",
        "outputId": "f2b72402-864f-47b0-dfae-8eb40909d294"
      },
      "execution_count": null,
      "outputs": [
        {
          "output_type": "stream",
          "name": "stdout",
          "text": [
            "Extracted Line: Date of Service                Modifier(s)          Place of Service        Line Msg Indicator                           Submitted Procedure: 97530               Submitted Units:        3\n",
            "No date of service found in the extracted line.\n"
          ]
        }
      ]
    },
    {
      "cell_type": "code",
      "source": [
        "pip install datefinder"
      ],
      "metadata": {
        "colab": {
          "base_uri": "https://localhost:8080/"
        },
        "id": "smJRgPZr9uuy",
        "outputId": "f8cd1a13-677e-410e-e45c-5adf37f23be0"
      },
      "execution_count": null,
      "outputs": [
        {
          "output_type": "stream",
          "name": "stdout",
          "text": [
            "Collecting datefinder\n",
            "  Downloading datefinder-0.7.3-py2.py3-none-any.whl.metadata (3.0 kB)\n",
            "Requirement already satisfied: regex>=2017.02.08 in /usr/local/lib/python3.10/dist-packages (from datefinder) (2024.5.15)\n",
            "Requirement already satisfied: python-dateutil>=2.4.2 in /usr/local/lib/python3.10/dist-packages (from datefinder) (2.8.2)\n",
            "Requirement already satisfied: pytz in /usr/local/lib/python3.10/dist-packages (from datefinder) (2024.1)\n",
            "Requirement already satisfied: six>=1.5 in /usr/local/lib/python3.10/dist-packages (from python-dateutil>=2.4.2->datefinder) (1.16.0)\n",
            "Downloading datefinder-0.7.3-py2.py3-none-any.whl (10 kB)\n",
            "Installing collected packages: datefinder\n",
            "Successfully installed datefinder-0.7.3\n"
          ]
        }
      ]
    },
    {
      "cell_type": "code",
      "source": [
        "import datefinder\n",
        "\n",
        "text = \"\"\"\n",
        "  Line #          Date of Service                Modifier(s)          Place of Service        Line Msg Indicator                           Submitted Procedure: 97530               Submitted Units:        3\n",
        "     1       01/02/2024 01/02/2024-                                        4                  A B C D\n",
        "\"\"\"\n",
        "\n",
        "matches = datefinder.find_dates(text)\n",
        "for match in matches:\n",
        "    print(match)"
      ],
      "metadata": {
        "id": "5u-WPW2T9n3c"
      },
      "execution_count": null,
      "outputs": []
    },
    {
      "cell_type": "code",
      "source": [
        "import re\n",
        "from datetime import datetime\n",
        "\n",
        "# Sample text simulating your document's structure\n",
        "text = \"\"\"\n",
        "  Line #          Date of Service                Modifier(s)          Place of Service        Line Msg Indicator                           Submitted Procedure: 97530               Submitted Units:        3\n",
        "     1       01/02/2024 01/02/2024-                                        4                  A B C D\n",
        "\"\"\"\n",
        "\n",
        "# Find the line containing \"Date of Service\" using a regex pattern that captures the entire line\n",
        "line_pattern = r'(?<=Line #)(.*?Date of Service.*?\\n)'\n",
        "\n",
        "# Extract the line\n",
        "line_extracted = re.search(line_pattern, text, re.DOTALL)\n",
        "\n",
        "if line_extracted:\n",
        "    # Extracted line\n",
        "    service_line = line_extracted.group(0).strip()\n",
        "    print(\"Extracted Line:\", service_line)\n",
        "\n",
        "    # Define a regex pattern to capture two dates in the format 'MM/DD/YYYY'\n",
        "    date_pattern = r'(\\d{2}/\\d{2}/\\d{4})\\s+(\\d{2}/\\d{2}/\\d{4})-'\n",
        "\n",
        "    # Searching for the dates in the extracted line\n",
        "    matches = re.findall(date_pattern, service_line)\n",
        "\n",
        "    if matches:\n",
        "        # Assuming the first match contains both start and end dates\n",
        "        start_date_str, end_date_str = matches[0]\n",
        "        # Convert strings to date objects\n",
        "        start_date = datetime.strptime(start_date_str, '%m/%d/%Y').date()\n",
        "        end_date = datetime.strptime(end_date_str, '%m/%d/%Y').date()\n",
        "        print(f\"Date of Service Range: From {start_date} to {end_date}\")\n",
        "    else:\n",
        "        print(\"No dates found in the extracted line.\")\n",
        "else:\n",
        "    print(\"No line containing 'Date of Service' found.\")\n"
      ],
      "metadata": {
        "colab": {
          "base_uri": "https://localhost:8080/"
        },
        "id": "uiZLLuNa-T_j",
        "outputId": "3e94647e-34d5-4822-8ec4-e29b8cd98dd8"
      },
      "execution_count": null,
      "outputs": [
        {
          "output_type": "stream",
          "name": "stdout",
          "text": [
            "Extracted Line: Date of Service                Modifier(s)          Place of Service        Line Msg Indicator                           Submitted Procedure: 97530               Submitted Units:        3\n",
            "No dates found in the extracted line.\n"
          ]
        }
      ]
    },
    {
      "cell_type": "code",
      "source": [
        "import re\n",
        "from datetime import datetime\n",
        "\n",
        "# Sample text with the exact structure as you mentioned\n",
        "text = \"\"\"\n",
        "  Line #          Date of Service                Modifier(s)          Place of Service        Line Msg Indicator                           Submitted Procedure: 97530               Submitted Units:        3\n",
        "     1       01/02/2024 01/02/2024-                                        4                  A B C D\n",
        "\"\"\"\n",
        "\n",
        "# Regex pattern to find the exact date range in the format 'MM/DD/YYYY MM/DD/YYYY-'\n",
        "date_pattern = r'(\\d{2}/\\d{2}/\\d{4})\\s+(\\d{2}/\\d{2}/\\d{4})-'\n",
        "\n",
        "# Applying regex to find all matches\n",
        "matches = re.findall(date_pattern, text)\n",
        "\n",
        "# Check and print the found dates\n",
        "if matches:\n",
        "    # Extract the start and end dates from the first match tuple\n",
        "    start_date_str, end_date_str = matches[0]\n",
        "    # Convert these string dates to datetime.date objects\n",
        "    # Convert these string dates to datetime.date objects using previously extracted variables\n",
        "    start_date = datetime.strptime(start_date_str, '%m/%d/%Y').date()\n",
        "    end_date = datetime.strptime(end_date_str, '%m/%d/%Y').date()\n",
        "\n",
        "    # Print in MM/DD/YYYY format\n",
        "    print(f\"Date of Service Range: From {start_date.strftime('%m/%d/%Y')} to {end_date.strftime('%m/%d/%Y')}\")\n",
        "    print(start_date)\n",
        "\n",
        "else:\n",
        "    print(\"No date of service range found in the text.\")\n"
      ],
      "metadata": {
        "colab": {
          "base_uri": "https://localhost:8080/"
        },
        "id": "oH2_WAJl-7Ri",
        "outputId": "2c8b2f7c-9708-4f54-9e48-1fdec1232511"
      },
      "execution_count": null,
      "outputs": [
        {
          "output_type": "stream",
          "name": "stdout",
          "text": [
            "Date of Service Range: From 01/02/2024 to 01/02/2024\n",
            "2024-01-02\n"
          ]
        }
      ]
    },
    {
      "cell_type": "code",
      "source": [
        "import csv\n",
        "from datetime import datetime\n",
        "\n",
        "# Example data extracted\n",
        "grand_totals = {\n",
        "    \"Line Charge\": \"$327.24\",\n",
        "    \"Allowed\": \"$117.54\",\n",
        "    \"QPA\": \"$0.00\",\n",
        "    \"Contractual\": \"$232.97\",\n",
        "    \"Payer Initiated\": \"$0.00\",\n",
        "    \"OA\": \"$0.00\",\n",
        "    \"Copay\": \"$35.00\",\n",
        "    \"Deductible\": \"$0.00\",\n",
        "    \"Coinsurance\": \"$0.00\",\n",
        "    \"Responsibility\": \"$0.00\",\n",
        "    \"Withhold\": \"$0.00\",\n",
        "    \"Paid\": \"$59.27\"\n",
        "}\n",
        "\n",
        "# Dates extracted\n",
        "start_date = datetime.strptime('01/02/2024', '%m/%d/%Y').date()\n",
        "end_date = datetime.strptime('01/02/2024', '%m/%d/%Y').date()\n",
        "\n",
        "# Combine data into a list of dictionaries for easier CSV writing\n",
        "data_to_store = [\n",
        "    {\"Category\": \"Date of Service Start\", \"Value\": start_date.strftime('%m/%d/%Y')},\n",
        "    {\"Category\": \"Date of Service End\", \"Value\": end_date.strftime('%m/%d/%Y')}\n",
        "]\n",
        "\n",
        "# Adding grand totals data\n",
        "data_to_store.extend([{\"Category\": key, \"Value\": value} for key, value in grand_totals.items()])\n",
        "\n",
        "# File to write to\n",
        "csv_file_path = 'extracted_data.csv'\n",
        "\n",
        "# Writing to CSV\n",
        "with open(csv_file_path, mode='w', newline='', encoding='utf-8') as file:\n",
        "    writer = csv.DictWriter(file, fieldnames=[\"Category\", \"Value\"])\n",
        "    writer.writeheader()\n",
        "    writer.writerows(data_to_store)\n",
        "\n",
        "print(f\"Data successfully written to {csv_file_path}\")\n"
      ],
      "metadata": {
        "colab": {
          "base_uri": "https://localhost:8080/"
        },
        "id": "9bXE4gP0_33_",
        "outputId": "2bde1cc9-47b4-4bc8-aeb7-a409f9a9142a"
      },
      "execution_count": null,
      "outputs": [
        {
          "output_type": "stream",
          "name": "stdout",
          "text": [
            "Data successfully written to extracted_data.csv\n"
          ]
        }
      ]
    },
    {
      "cell_type": "code",
      "source": [
        "import csv\n",
        "from datetime import datetime\n",
        "\n",
        "# Example grand totals data extracted\n",
        "grand_totals = {\n",
        "    \"Line Charge\": \"$327.24\",\n",
        "    \"Allowed\": \"$117.54\",\n",
        "    \"QPA\": \"$0.00\",\n",
        "    \"Contractual\": \"$232.97\",\n",
        "    \"Payer Initiated\": \"$0.00\",\n",
        "    \"OA\": \"$0.00\",\n",
        "    \"Copay\": \"$35.00\",\n",
        "    \"Deductible\": \"$0.00\",\n",
        "    \"Coinsurance\": \"$0.00\",\n",
        "    \"Paid\": \"$59.27\"\n",
        "}\n",
        "\n",
        "# Dates extracted\n",
        "date_of_service = \"01/02/2024\"  # Using this format directly for simplicity\n",
        "\n",
        "# Prepare the row to be written to CSV\n",
        "row_data = {\n",
        "    \"Date of Service\": date_of_service\n",
        "}\n",
        "\n",
        "# Combine the row data with the grand totals data\n",
        "row_data.update(grand_totals)\n",
        "\n",
        "# Column headers as specified\n",
        "headers = [\"Date of Service\", \"Line Charge\", \"Allowed\", \"QPA\", \"Contractual\", \"Payer Initiated\", \"OA\", \"Copay\", \"Deductible\", \"Coinsurance\", \"Paid\"]\n",
        "\n",
        "# File to write to\n",
        "csv_file_path = 'patient_visit_data.csv'\n",
        "\n",
        "# Writing to CSV\n",
        "with open(csv_file_path, mode='w', newline='', encoding='utf-8') as file:\n",
        "    writer = csv.DictWriter(file, fieldnames=headers)\n",
        "    writer.writeheader()\n",
        "    writer.writerow(row_data)\n",
        "\n",
        "print(f\"Data successfully written to {csv_file_path}\")\n"
      ],
      "metadata": {
        "id": "OPPChYHWAktW",
        "outputId": "3e1f75bd-0e8d-45db-ab3d-3219cd313c23",
        "colab": {
          "base_uri": "https://localhost:8080/"
        }
      },
      "execution_count": null,
      "outputs": [
        {
          "output_type": "stream",
          "name": "stdout",
          "text": [
            "Data successfully written to patient_visit_data.csv\n"
          ]
        }
      ]
    }
  ]
}